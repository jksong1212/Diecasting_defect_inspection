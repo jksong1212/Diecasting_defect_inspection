{
 "cells": [
  {
   "cell_type": "code",
   "execution_count": 6,
   "id": "3df7ecc6-25a9-4847-863e-e5aad9a617c7",
   "metadata": {},
   "outputs": [],
   "source": [
    "import time, os, sys\n",
    "import pandas as pd\n",
    "import numpy as np\n",
    "# from utilfunc import parabolic, freq_from_fft\n",
    "from scipy.signal import find_peaks\n",
    "import matplotlib.pyplot as plt\n",
    "import copy\n",
    "import random\n",
    "import datetime\n",
    "from dateutil.parser import parse\n",
    "\n",
    "from sklearn.model_selection import train_test_split"
   ]
  },
  {
   "cell_type": "code",
   "execution_count": 7,
   "id": "ad5269a3-f35a-4917-934e-9904162758b4",
   "metadata": {},
   "outputs": [],
   "source": [
    "dataset_list = [\"Dataset1\", \"Dataset2\"]\n",
    "train_ds_dir = \"DS_testOK80NG20_type1\""
   ]
  },
  {
   "cell_type": "code",
   "execution_count": 8,
   "id": "3bcc788f-57b3-4f2f-b63f-ea3817653d6b",
   "metadata": {},
   "outputs": [],
   "source": [
    "if not os.path.exists(train_ds_dir):\n",
    "    os.makedirs(train_ds_dir)\n",
    "else:\n",
    "    print(\"The folder already exists.\")"
   ]
  },
  {
   "cell_type": "code",
   "execution_count": 9,
   "id": "acfe1c5c-cb25-4dae-b063-75f222535355",
   "metadata": {},
   "outputs": [
    {
     "name": "stdout",
     "output_type": "stream",
     "text": [
      "(1435, 47) (1435, 2) (70, 47) (70, 2)\n",
      "--- 0.004996538162231445 seconds ---\n"
     ]
    }
   ],
   "source": [
    "start_time = time.time()\n",
    "\n",
    "x_data_OK = []\n",
    "y_data_OK = []\n",
    "x_data_NG = []\n",
    "y_data_NG = []\n",
    "for ds in dataset_list:\n",
    "    ds_path = os.path.join(\"../Dataset\", ds)    \n",
    "    x_data_OK.append( np.load(os.path.join(ds_path, 'x_data_OK.npy')) )\n",
    "    y_data_OK.append( np.load(os.path.join(ds_path, 'y_data_OK.npy')) )\n",
    "    x_data_NG.append( np.load(os.path.join(ds_path, 'x_data_NG.npy')) )\n",
    "    y_data_NG.append( np.load(os.path.join(ds_path, 'y_data_NG.npy')) )\n",
    "\n",
    "x_data_OK = np.concatenate(x_data_OK, axis=0)\n",
    "y_data_OK = np.concatenate(y_data_OK, axis=0)\n",
    "x_data_NG = np.concatenate(x_data_NG, axis=0)\n",
    "y_data_NG = np.concatenate(y_data_NG, axis=0)\n",
    "\n",
    "print(x_data_OK.shape, y_data_OK.shape, x_data_NG.shape, y_data_NG.shape)\n",
    "\n",
    "print(\"--- %s seconds ---\"%(time.time()-start_time))"
   ]
  },
  {
   "cell_type": "code",
   "execution_count": 10,
   "id": "7d173f13-53f9-4699-8c7e-eab39dcfa768",
   "metadata": {},
   "outputs": [
    {
     "name": "stdout",
     "output_type": "stream",
     "text": [
      "OK : (1355, 47) (80, 47)\n",
      "NG : (50, 47) (20, 47)\n",
      "--------------------------------------------------\n",
      "--- 0.0012402534484863281 seconds ---\n"
     ]
    }
   ],
   "source": [
    "start_time = time.time()\n",
    "\n",
    "x_train_OK, x_test_OK, y_train_OK, y_test_OK = train_test_split(x_data_OK, y_data_OK, test_size=0.0555, shuffle=True)  # 0.084\n",
    "x_train_NG, x_test_NG, y_train_NG, y_test_NG = train_test_split(x_data_NG, y_data_NG, test_size=0.28, shuffle=True) #\n",
    "print(\"OK :\", x_train_OK.shape, x_test_OK.shape)\n",
    "print(\"NG :\", x_train_NG.shape, x_test_NG.shape)\n",
    "print('-'*50)\n",
    "\n",
    "# x_train = np.concatenate([x_train_OK, x_train_NG], axis=0)\n",
    "# y_train = np.concatenate([y_train_OK, y_train_NG], axis=0)\n",
    "# x_test = np.concatenate([x_test_OK, x_test_NG], axis=0)\n",
    "# y_test = np.concatenate([y_test_OK, y_test_NG], axis=0)\n",
    "\n",
    "# print(\"train ds :\", x_train.shape, y_train.shape)\n",
    "# print(\"test ds  :\", x_test.shape, y_test.shape)\n",
    "# print('-'*50)\n",
    "\n",
    "print(\"--- %s seconds ---\"%(time.time()-start_time))"
   ]
  },
  {
   "cell_type": "code",
   "execution_count": 12,
   "id": "70cc42d2-1ee2-4ed5-b6a4-1db428b811db",
   "metadata": {},
   "outputs": [
    {
     "name": "stdout",
     "output_type": "stream",
     "text": [
      "--- 0.010608196258544922 seconds ---\n"
     ]
    }
   ],
   "source": [
    "start_time = time.time()\n",
    "\n",
    "np.save( os.path.join(train_ds_dir, \"./x_train_OK\"), x_train_OK )\n",
    "np.save( os.path.join(train_ds_dir, \"./y_train_OK\"), y_train_OK )\n",
    "np.save( os.path.join(train_ds_dir, \"./x_train_NG\"), x_train_NG )\n",
    "np.save( os.path.join(train_ds_dir, \"./y_train_NG\"), y_train_NG )\n",
    "np.save( os.path.join(train_ds_dir, \"./x_test_OK\"), x_test_OK )\n",
    "np.save( os.path.join(train_ds_dir, \"./y_test_OK\"), y_test_OK )\n",
    "np.save( os.path.join(train_ds_dir, \"./x_test_NG\"), x_test_NG )\n",
    "np.save( os.path.join(train_ds_dir, \"./y_test_NG\"), y_test_NG )\n",
    "\n",
    "print(\"--- %s seconds ---\"%(time.time()-start_time))"
   ]
  },
  {
   "cell_type": "code",
   "execution_count": null,
   "id": "659fcc0f-fc43-418e-8b1e-d074140c155c",
   "metadata": {},
   "outputs": [],
   "source": []
  },
  {
   "cell_type": "code",
   "execution_count": null,
   "id": "7c56f2f4-82d1-4aed-bcf3-39108da46dba",
   "metadata": {},
   "outputs": [],
   "source": []
  },
  {
   "cell_type": "code",
   "execution_count": null,
   "id": "fb8cda02-456d-4097-8da3-8edc3903cd84",
   "metadata": {},
   "outputs": [],
   "source": []
  }
 ],
 "metadata": {
  "kernelspec": {
   "display_name": "Python 3 (ipykernel)",
   "language": "python",
   "name": "python3"
  },
  "language_info": {
   "codemirror_mode": {
    "name": "ipython",
    "version": 3
   },
   "file_extension": ".py",
   "mimetype": "text/x-python",
   "name": "python",
   "nbconvert_exporter": "python",
   "pygments_lexer": "ipython3",
   "version": "3.7.11"
  }
 },
 "nbformat": 4,
 "nbformat_minor": 5
}
