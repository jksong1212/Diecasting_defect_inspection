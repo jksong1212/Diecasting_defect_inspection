{
 "cells": [
  {
   "cell_type": "markdown",
   "id": "informative-mainland",
   "metadata": {},
   "source": [
    "# Conductance estimation of Ohara 2017 by EfficientNet"
   ]
  },
  {
   "cell_type": "code",
   "execution_count": 1,
   "id": "distinct-kernel",
   "metadata": {},
   "outputs": [
    {
     "name": "stdout",
     "output_type": "stream",
     "text": [
      "1.10.2+cu113\n"
     ]
    }
   ],
   "source": [
    "import os, sys, copy, time\n",
    "import math\n",
    "import random\n",
    "import numpy as np\n",
    "import matplotlib.pyplot as plt\n",
    "from datetime import datetime\n",
    "import pandas as pd\n",
    "import seaborn as sns\n",
    "import multiprocessing\n",
    "from functools import partial\n",
    "import cv2\n",
    "import skimage.io\n",
    "import torch\n",
    "import torch.nn as nn\n",
    "import torch.nn.functional as F\n",
    "import torch.nn.parallel\n",
    "import torch.backends.cudnn as cudnn\n",
    "import torch.optim as optim\n",
    "import torch.utils.data\n",
    "from torchvision import datasets, models, transforms\n",
    "import torchvision.utils as vutils\n",
    "import torchaudio.transforms as AT\n",
    "from torch.utils.data import  Dataset, TensorDataset, DataLoader\n",
    "from efficientnet_pytorch import EfficientNet\n",
    "from typing import Type, Any, Callable, Union, List, Optional\n",
    "from IPython.display import HTML\n",
    "from IPython import display\n",
    "import librosa.display\n",
    "from tqdm import tqdm\n",
    "from sklearn.model_selection import train_test_split\n",
    "\n",
    "random.seed(3)\n",
    "np.random.seed(3)\n",
    "torch.manual_seed(3)\n",
    "\n",
    "print(torch.__version__)"
   ]
  },
  {
   "cell_type": "code",
   "execution_count": 2,
   "id": "featured-seafood",
   "metadata": {},
   "outputs": [
    {
     "name": "stdout",
     "output_type": "stream",
     "text": [
      "Multi GPU activate\n"
     ]
    },
    {
     "data": {
      "text/plain": [
       "device(type='cuda')"
      ]
     },
     "execution_count": 2,
     "metadata": {},
     "output_type": "execute_result"
    }
   ],
   "source": [
    "device = torch.device(\"cuda\" if torch.cuda.is_available() else 'cpu')\n",
    "if (device.type == 'cuda') and (torch.cuda.device_count() >1):\n",
    "    print(\"Multi GPU activate\")\n",
    "# device = torch.device('cpu')\n",
    "device"
   ]
  },
  {
   "cell_type": "code",
   "execution_count": 3,
   "id": "8b470491-0939-4989-bc53-ef5387383933",
   "metadata": {},
   "outputs": [],
   "source": [
    "def minmax_normalization(x, min=1.0, max=100.0):\n",
    "    return (x - min) / (max - min)\n",
    "\n",
    "def inv_minmax_normalization(x_std, min=1, max=100):\n",
    "    return x_std * (max - min) + min "
   ]
  },
  {
   "cell_type": "code",
   "execution_count": 4,
   "id": "hawaiian-blind",
   "metadata": {},
   "outputs": [],
   "source": [
    "batch_size = 64\n",
    "epochs = 100\n",
    "print_every = 1\n",
    "window = 20\n",
    "step_size = 10\n",
    "window_type = 'avg'\n",
    "emb_size = 512\n",
    "d_model = 512\n",
    "max_len = 2000\n",
    "patience = 1000\n",
    "\n",
    "dataset_list = [\"Dataset1\", \"Dataset1\" ]\n",
    "models_dir = \"Trained_models-l4-256\"\n",
    "model_file_path = os.path.join(models_dir, f'params-200.pk')"
   ]
  },
  {
   "cell_type": "code",
   "execution_count": 5,
   "id": "84d51d1f-28c4-44d6-bbfe-c47d8454c215",
   "metadata": {},
   "outputs": [
    {
     "name": "stdout",
     "output_type": "stream",
     "text": [
      "\"./Trained_models-l4-256/Results1_sim\" has been created.\n",
      "\"./Trained_models-l4-256/Results2_sim\" has been created.\n"
     ]
    }
   ],
   "source": [
    "output_dir1 = f'./{models_dir}/Results1_sim'        \n",
    "if not os.path.exists(output_dir1):\n",
    "    os.makedirs(output_dir1)\n",
    "    print('\"%s\" has been created.'%(output_dir1))\n",
    "output_dir2 = f'./{models_dir}/Results2_sim'        \n",
    "if not os.path.exists(output_dir2):\n",
    "    os.makedirs(output_dir2)\n",
    "    print('\"%s\" has been created.'%(output_dir2))\n"
   ]
  },
  {
   "cell_type": "code",
   "execution_count": 6,
   "id": "84128f2b-1927-4e2f-afaa-00125b575f38",
   "metadata": {},
   "outputs": [
    {
     "name": "stdout",
     "output_type": "stream",
     "text": [
      "(2006, 47) (2006, 2) (1896, 47) (1896, 2) (110, 47) (110, 2)\n"
     ]
    }
   ],
   "source": [
    "x_test_OK = []\n",
    "y_test_OK = []\n",
    "x_test_NG = []\n",
    "y_test_NG = []\n",
    "for ds in dataset_list:\n",
    "    ds_path = os.path.join(\"../Dataset\", ds)    \n",
    "    x_test_OK.append( np.load(os.path.join(ds_path, 'x_data_OK.npy')) )\n",
    "    y_test_OK.append( np.load(os.path.join(ds_path, 'y_data_OK.npy')) )\n",
    "    x_test_NG.append( np.load(os.path.join(ds_path, 'x_data_NG.npy')) )\n",
    "    y_test_NG.append( np.load(os.path.join(ds_path, 'y_data_NG.npy')) )\n",
    "\n",
    "x_test_OK = np.concatenate(x_test_OK, axis=0)\n",
    "y_test_OK = np.concatenate(y_test_OK, axis=0)\n",
    "x_test_NG = np.concatenate(x_test_NG, axis=0)\n",
    "y_test_NG = np.concatenate(y_test_NG, axis=0)\n",
    "x_test = np.concatenate([x_test_OK, x_test_NG], axis=0)\n",
    "y_test = np.concatenate([y_test_OK, y_test_NG], axis=0)\n",
    "\n",
    "print(x_test.shape, y_test.shape, x_test_OK.shape, y_test_OK.shape, x_test_NG.shape, y_test_NG.shape)"
   ]
  },
  {
   "cell_type": "code",
   "execution_count": 7,
   "id": "3a663526-3bed-4dd4-901b-d1232e0bab4c",
   "metadata": {},
   "outputs": [
    {
     "name": "stdout",
     "output_type": "stream",
     "text": [
      "--- 4.744529724121094e-05 seconds ---\n"
     ]
    }
   ],
   "source": [
    "start_time = time.time()\n",
    "\n",
    "\n",
    "\n",
    "print(\"--- %s seconds ---\"%(time.time()-start_time))"
   ]
  },
  {
   "cell_type": "code",
   "execution_count": 8,
   "id": "b9826b81-9d83-4f46-ae74-6f19bc03773a",
   "metadata": {},
   "outputs": [
    {
     "name": "stdout",
     "output_type": "stream",
     "text": [
      "torch.Size([1896, 47]) torch.Size([110, 47])\n",
      "torch.Size([1896, 2]) torch.Size([110, 2])\n"
     ]
    }
   ],
   "source": [
    "x_test_OK = torch.tensor(x_test_OK).type(torch.float)\n",
    "y_test_OK = torch.tensor(y_test_OK).type(torch.float)\n",
    "x_test_NG = torch.tensor(x_test_NG).type(torch.float)\n",
    "y_test_NG = torch.tensor(y_test_NG).type(torch.float)\n",
    "x_test = torch.tensor(x_test).type(torch.float)\n",
    "y_test = torch.tensor(y_test).type(torch.float)\n",
    "\n",
    "y_test_OK = y_test_OK.view(-1, 2)\n",
    "y_test_NG = y_test_NG.view(-1, 2)\n",
    "y_test = y_test.view(-1, 2)\n",
    "\n",
    "print(x_test_OK.shape, x_test_NG.shape)\n",
    "print(y_test_OK.shape, y_test_NG.shape)"
   ]
  },
  {
   "cell_type": "code",
   "execution_count": 9,
   "id": "87dd9e69-7e31-43e2-ba88-d61f476e0606",
   "metadata": {},
   "outputs": [],
   "source": [
    "class DefectInspector0(torch.nn.Module):\n",
    "    def __init__(self,                            \n",
    "                 in_size: int = 47,\n",
    "                 out_size: int = 2,                                 \n",
    "                 dropout: float = 0.1\n",
    "                ):\n",
    "        super(DefectInspector0, self).__init__()\n",
    "\n",
    "        layer_size = 256\n",
    "        self.name = 'DefectInspector0'        \n",
    "        self.out_size = out_size\n",
    "        \n",
    "        self.linear1 = torch.nn.Linear(in_size, layer_size)\n",
    "        self.bn1 = torch.nn.BatchNorm1d(layer_size)\n",
    "        self.relu1 = torch.nn.ReLU(inplace=False)\n",
    "        self.dropout1 = torch.nn.Dropout(dropout)\n",
    "        \n",
    "        self.linear2 = torch.nn.Linear(layer_size, layer_size)\n",
    "        self.bn2 = torch.nn.BatchNorm1d(layer_size)\n",
    "        self.relu2 = torch.nn.ReLU(inplace=False)\n",
    "        self.dropout2 = torch.nn.Dropout(dropout)\n",
    "        \n",
    "        self.linear3 = torch.nn.Linear(layer_size, layer_size)\n",
    "        self.bn3 = torch.nn.BatchNorm1d(layer_size)\n",
    "        self.relu3 = torch.nn.ReLU(inplace=False)\n",
    "        self.dropout3 = torch.nn.Dropout(dropout)\n",
    "        \n",
    "        self.linear4 = torch.nn.Linear(layer_size, layer_size)\n",
    "        self.bn4 = torch.nn.BatchNorm1d(layer_size)\n",
    "        self.relu4 = torch.nn.ReLU(inplace=False)\n",
    "        self.dropout4 = torch.nn.Dropout(dropout)\n",
    "        \n",
    "        self.final_linear = torch.nn.Linear(layer_size, out_size, bias=True)  \n",
    "\n",
    "    def forward(self, src: torch.Tensor): # src : (B, S, F)   \n",
    "        \n",
    "        out = self.linear1(src)       # (B, S, emb_size)      \n",
    "        out = self.bn1(out)\n",
    "        out = F.relu(out)\n",
    "        \n",
    "        out = self.linear2(out)       # (B, S, emb_size)      \n",
    "        out = self.bn2(out)\n",
    "        out = F.relu(out)\n",
    "        \n",
    "        out = self.linear3(out)       # (B, S, emb_size)      \n",
    "        out = self.bn3(out)\n",
    "        out = F.relu(out)\n",
    "        \n",
    "        out = self.linear4(out)       # (B, S, emb_size)      \n",
    "        out = self.bn4(out)\n",
    "        out = F.relu(out)\n",
    "        \n",
    "        return self.final_linear(out)       # (B, S, emb_size)      "
   ]
  },
  {
   "cell_type": "code",
   "execution_count": 10,
   "id": "2c1e8467-8f93-496a-b2a1-f3f0e1bdcf55",
   "metadata": {},
   "outputs": [],
   "source": [
    "# # val_ds = TensorDataset(x_val, y_val)\n",
    "# test_ds = CustomDataset(x_test, y_test)\n",
    "# test_loader = DataLoader(test_ds, batch_size=BATCH_SIZE, shuffle=False, num_workers=4) \n",
    "# print(test_ds[0][0].shape, test_ds[0][1].shape)"
   ]
  },
  {
   "cell_type": "code",
   "execution_count": 11,
   "id": "0ab88170-e532-4d04-af0b-d033b3017b12",
   "metadata": {},
   "outputs": [
    {
     "name": "stdout",
     "output_type": "stream",
     "text": [
      "torch.Size([47]) torch.Size([2])\n"
     ]
    }
   ],
   "source": [
    "from torch.utils.data import  TensorDataset, DataLoader\n",
    "testOK_ds = TensorDataset(x_test_OK, y_test_OK)\n",
    "testOK_loader = DataLoader(testOK_ds, batch_size=batch_size, shuffle=False, num_workers=4)\n",
    "\n",
    "testNG_ds = TensorDataset(x_test_NG, y_test_NG)\n",
    "testNG_loader = DataLoader(testNG_ds, batch_size=batch_size, shuffle=False, num_workers=4)\n",
    "\n",
    "test_ds = TensorDataset(x_test, y_test)\n",
    "test_loader = DataLoader(test_ds, batch_size=batch_size, shuffle=False, num_workers=4)\n",
    "\n",
    "print(test_ds[0][0].shape, test_ds[0][1].shape)"
   ]
  },
  {
   "cell_type": "code",
   "execution_count": 12,
   "id": "981ad217-f0b5-487f-80a6-d9f0242f2170",
   "metadata": {},
   "outputs": [],
   "source": [
    "model = DefectInspector0(in_size=x_test.shape[1],\n",
    "                         out_size=y_test.shape[1])"
   ]
  },
  {
   "cell_type": "code",
   "execution_count": 13,
   "id": "17d941f3-8411-4f88-b09f-7e1f8b66c00b",
   "metadata": {},
   "outputs": [
    {
     "name": "stdout",
     "output_type": "stream",
     "text": [
      "Training time : 200.17952585220337s (0.05560542384783427h)\n"
     ]
    }
   ],
   "source": [
    "checkpoint = torch.load(model_file_path) \n",
    "model.load_state_dict(checkpoint['model_state_dict'])\n",
    "\n",
    "# if torch.cuda.device_count() > 1:\n",
    "#     model = nn.DataParallel(model, device_ids=[0,1])\n",
    "model.to(device)\n",
    "\n",
    "print(f\"Training time : {checkpoint['time']}s ({checkpoint['time']/60/60}h)\")"
   ]
  },
  {
   "cell_type": "code",
   "execution_count": 14,
   "id": "51bacad9-9ebe-44df-a95b-311d0fea7549",
   "metadata": {},
   "outputs": [
    {
     "name": "stdout",
     "output_type": "stream",
     "text": [
      "Best MSE for train dataset\n",
      "1 : (197, 0.001807)\n",
      "2 : (200, 0.001823)\n",
      "3 : (186, 0.001827)\n",
      "4 : (198, 0.001828)\n",
      "5 : (192, 0.001833)\n",
      "6 : (193, 0.001857)\n",
      "7 : (191, 0.001871)\n",
      "8 : (181, 0.001876)\n",
      "9 : (196, 0.001879)\n",
      "10 : (183, 0.001905)\n",
      "==================================================\n",
      "Best MSE for validation dataset\n",
      "1 : (78, 0.096125)\n",
      "2 : (79, 0.096723)\n",
      "3 : (77, 0.099642)\n",
      "4 : (95, 0.100898)\n",
      "5 : (94, 0.100909)\n",
      "6 : (99, 0.100947)\n",
      "7 : (93, 0.101070)\n",
      "8 : (92, 0.101184)\n",
      "9 : (96, 0.101230)\n",
      "10 : (19, 0.101324)\n",
      "----------------------------------------------------------------------------------------------------\n",
      "0.786259114742279 0.0018073671963065863\n",
      "3.681875228881836 0.09612548351287842\n"
     ]
    },
    {
     "data": {
      "image/png": "[encoded data removed]",
      "text/plain": [
       "<Figure size 432x288 with 1 Axes>"
      ]
     },
     "metadata": {
      "needs_background": "light"
     },
     "output_type": "display_data"
    },
    {
     "data": {
      "text/plain": [
       "0.14925436675548553"
      ]
     },
     "execution_count": 14,
     "metadata": {},
     "output_type": "execute_result"
    }
   ],
   "source": [
    "train_loss_arr = np.array(checkpoint['train_loss_li'])\n",
    "train_best_epoch = train_loss_arr.argsort() + 1\n",
    "print(\"Best MSE for train dataset\")\n",
    "for i, epoch in enumerate(train_best_epoch[:10]):\n",
    "    print(\"%d : (%d, %f)\"%(i+1, epoch, train_loss_arr[epoch-1]))\n",
    "\n",
    "print(\"=\"*50)\n",
    "\n",
    "print(\"Best MSE for validation dataset\")\n",
    "val_loss_arr = np.array(checkpoint['val_loss_li'])\n",
    "val_best_epoch = val_loss_arr.argsort() + 1\n",
    "for i, epoch in enumerate(val_best_epoch[:10]):\n",
    "    print(\"%d : (%d, %f)\"%(i+1, epoch, val_loss_arr[epoch-1]))\n",
    "\n",
    "print('-'*100)\n",
    "print(train_loss_arr.max(), train_loss_arr.min())\n",
    "print(val_loss_arr.max(), val_loss_arr.min())\n",
    "# plt.title(\"Loss\", fontsize=18) \n",
    "plt.xlabel( \"Epoch\", fontsize=14)\n",
    "plt.ylabel( \"Loss\", fontsize=14)\n",
    "# plt.ylim(0, 0.05)\n",
    "plt.plot(checkpoint['train_loss_li'], label='train loss')\n",
    "plt.plot(checkpoint['val_loss_li'], label='val loss')\n",
    "plt.legend(fontsize=14)\n",
    "plt.tight_layout()\n",
    "plt.savefig( os.path.join(output_dir1, 'train_val_loss1.jpg'), dpi=199) \n",
    "plt.show()\n",
    "checkpoint['val_loss_li'][-1]"
   ]
  },
  {
   "cell_type": "code",
   "execution_count": 31,
   "id": "81c6874e-a98a-4ae3-970b-1110ab138d78",
   "metadata": {},
   "outputs": [
    {
     "data": {
      "text/plain": [
       "DefectInspector0(\n",
       "  (linear1): Linear(in_features=47, out_features=256, bias=True)\n",
       "  (bn1): BatchNorm1d(256, eps=1e-05, momentum=0.1, affine=True, track_running_stats=True)\n",
       "  (relu1): ReLU()\n",
       "  (dropout1): Dropout(p=0.1, inplace=False)\n",
       "  (linear2): Linear(in_features=256, out_features=256, bias=True)\n",
       "  (bn2): BatchNorm1d(256, eps=1e-05, momentum=0.1, affine=True, track_running_stats=True)\n",
       "  (relu2): ReLU()\n",
       "  (dropout2): Dropout(p=0.1, inplace=False)\n",
       "  (linear3): Linear(in_features=256, out_features=256, bias=True)\n",
       "  (bn3): BatchNorm1d(256, eps=1e-05, momentum=0.1, affine=True, track_running_stats=True)\n",
       "  (relu3): ReLU()\n",
       "  (dropout3): Dropout(p=0.1, inplace=False)\n",
       "  (linear4): Linear(in_features=256, out_features=256, bias=True)\n",
       "  (bn4): BatchNorm1d(256, eps=1e-05, momentum=0.1, affine=True, track_running_stats=True)\n",
       "  (relu4): ReLU()\n",
       "  (dropout4): Dropout(p=0.1, inplace=False)\n",
       "  (final_linear): Linear(in_features=256, out_features=2, bias=True)\n",
       ")"
      ]
     },
     "execution_count": 31,
     "metadata": {},
     "output_type": "execute_result"
    }
   ],
   "source": [
    "checkpoint = torch.load(os.path.join(models_dir, f'params-77.pk')) \n",
    "model.load_state_dict(checkpoint['model_state_dict'])\n",
    "model.to(device)"
   ]
  },
  {
   "cell_type": "code",
   "execution_count": 32,
   "id": "5c7b5ba2-0dbe-45cb-9756-7a1ec756125c",
   "metadata": {},
   "outputs": [],
   "source": [
    "def test(model, data_loader): \n",
    "    loss_sum = 0    \n",
    "    criterion = nn.BCELoss()# nn.CrossEntropyLoss() #nn.MSELoss()\n",
    "    nIter = 0\n",
    "    nSuccess = 0\n",
    "    with torch.no_grad(): \n",
    "        model.eval()   \n",
    "        for i, data in enumerate(data_loader):\n",
    "            output = model(data[0].to(device))     \n",
    "            out = F.softmax(output, dim=1)            \n",
    "            out_max, out_indices = torch.max(out.cpu(), dim=1)            \n",
    "            target_max, target_indices = torch.max(data[1], dim=1)\n",
    "#             print((out_indices!=target_indices))\n",
    "#             print((out_indices!=target_indices).sum())\n",
    "            nSuccess += (out_indices==target_indices).sum()\n",
    "            loss = criterion(out, data[1].to(device))\n",
    "            loss_sum += loss   \n",
    "            nIter+=1                \n",
    "    return nSuccess, loss_sum.item()/nIter"
   ]
  },
  {
   "cell_type": "code",
   "execution_count": 33,
   "id": "0d6a8681-c720-4c32-93be-bab746f162f2",
   "metadata": {},
   "outputs": [
    {
     "name": "stdout",
     "output_type": "stream",
     "text": [
      "99.68 %\n"
     ]
    }
   ],
   "source": [
    "nSuccess, loss = test(model, testOK_loader)\n",
    "print( f\"%.2f %%\"%(nSuccess/x_test_OK.shape[0]*100))"
   ]
  },
  {
   "cell_type": "code",
   "execution_count": 34,
   "id": "95884d3f-0820-4801-af35-c67e98efd194",
   "metadata": {},
   "outputs": [
    {
     "name": "stdout",
     "output_type": "stream",
     "text": [
      "83.64 %\n"
     ]
    }
   ],
   "source": [
    "nSuccess, loss = test(model, testNG_loader)\n",
    "print( f\"%.2f %%\"%(nSuccess/x_test_NG.shape[0]*100))"
   ]
  },
  {
   "cell_type": "code",
   "execution_count": 35,
   "id": "c535ab61-6699-43bb-a7d8-53f8aa345c0b",
   "metadata": {},
   "outputs": [
    {
     "name": "stdout",
     "output_type": "stream",
     "text": [
      "98.80 %\n"
     ]
    }
   ],
   "source": [
    "nSuccess, loss = test(model, test_loader)\n",
    "print( f\"%.2f %%\"%(nSuccess/x_test.shape[0]*100))"
   ]
  },
  {
   "cell_type": "code",
   "execution_count": null,
   "id": "c3ce8be4-8829-458d-ba8b-192bd9278edb",
   "metadata": {},
   "outputs": [],
   "source": []
  },
  {
   "cell_type": "code",
   "execution_count": null,
   "id": "a4a0fe45-25bf-4f42-b523-5de28406a36b",
   "metadata": {},
   "outputs": [],
   "source": []
  },
  {
   "cell_type": "code",
   "execution_count": null,
   "id": "437eb7c0-a7bc-4814-9406-037b7e40b0f1",
   "metadata": {},
   "outputs": [],
   "source": []
  },
  {
   "cell_type": "code",
   "execution_count": 20,
   "id": "royal-stroke",
   "metadata": {},
   "outputs": [
    {
     "name": "stdout",
     "output_type": "stream",
     "text": [
      "Finish\n"
     ]
    }
   ],
   "source": [
    "print(\"Finish\")"
   ]
  },
  {
   "cell_type": "code",
   "execution_count": null,
   "id": "ce0e0765-1b8f-4b78-83ab-b5a5df793f51",
   "metadata": {},
   "outputs": [],
   "source": []
  },
  {
   "cell_type": "code",
   "execution_count": null,
   "id": "40938156-7f95-4d2a-8bae-1f72c0c80a28",
   "metadata": {},
   "outputs": [],
   "source": []
  },
  {
   "cell_type": "code",
   "execution_count": null,
   "id": "f1d86343-d0bf-4fbf-928b-9e1842e2dac8",
   "metadata": {},
   "outputs": [],
   "source": []
  }
 ],
 "metadata": {
  "kernelspec": {
   "display_name": "Python 3 (ipykernel)",
   "language": "python",
   "name": "python3"
  },
  "language_info": {
   "codemirror_mode": {
    "name": "ipython",
    "version": 3
   },
   "file_extension": ".py",
   "mimetype": "text/x-python",
   "name": "python",
   "nbconvert_exporter": "python",
   "pygments_lexer": "ipython3",
   "version": "3.7.11"
  }
 },
 "nbformat": 4,
 "nbformat_minor": 5
}
