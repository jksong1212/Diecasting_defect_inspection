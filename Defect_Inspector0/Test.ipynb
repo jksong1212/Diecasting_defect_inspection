{
 "cells": [
  {
   "cell_type": "markdown",
   "id": "informative-mainland",
   "metadata": {},
   "source": [
    "# Conductance estimation of Ohara 2017 by EfficientNet"
   ]
  },
  {
   "cell_type": "code",
   "execution_count": 1,
   "id": "distinct-kernel",
   "metadata": {},
   "outputs": [
    {
     "name": "stderr",
     "output_type": "stream",
     "text": [
      "C:\\Anaconda3\\envs\\ml\\lib\\site-packages\\numpy\\_distributor_init.py:30: UserWarning: loaded more than 1 DLL from .libs:\n",
      "C:\\Anaconda3\\envs\\ml\\lib\\site-packages\\numpy\\.libs\\libopenblas.NOIJJG62EMASZI6NYURL6JBKM4EVBGM7.gfortran-win_amd64.dll\n",
      "C:\\Anaconda3\\envs\\ml\\lib\\site-packages\\numpy\\.libs\\libopenblas.WCDJNK7YVMPZQ2ME2ZZHJJRJ3JIKNDB7.gfortran-win_amd64.dll\n",
      "  warnings.warn(\"loaded more than 1 DLL from .libs:\\n%s\" %\n"
     ]
    },
    {
     "name": "stdout",
     "output_type": "stream",
     "text": [
      "1.9.0\n"
     ]
    }
   ],
   "source": [
    "import os, sys, copy, time\n",
    "import math\n",
    "import random\n",
    "import numpy as np\n",
    "import matplotlib.pyplot as plt\n",
    "from datetime import datetime\n",
    "import pandas as pd\n",
    "import seaborn as sns\n",
    "import multiprocessing\n",
    "from functools import partial\n",
    "import cv2\n",
    "import skimage.io\n",
    "import torch\n",
    "import torch.nn as nn\n",
    "import torch.nn.functional as F\n",
    "import torch.nn.parallel\n",
    "import torch.backends.cudnn as cudnn\n",
    "import torch.optim as optim\n",
    "import torch.utils.data\n",
    "from torchvision import datasets, models, transforms\n",
    "import torchvision.utils as vutils\n",
    "import torchaudio.transforms as AT\n",
    "from torch.utils.data import  Dataset, TensorDataset, DataLoader\n",
    "from efficientnet_pytorch import EfficientNet\n",
    "from typing import Type, Any, Callable, Union, List, Optional\n",
    "from IPython.display import HTML\n",
    "from IPython import display\n",
    "import librosa.display\n",
    "from tqdm import tqdm\n",
    "from sklearn.model_selection import train_test_split\n",
    "\n",
    "random.seed(3)\n",
    "np.random.seed(3)\n",
    "torch.manual_seed(3)\n",
    "\n",
    "print(torch.__version__)"
   ]
  },
  {
   "cell_type": "code",
   "execution_count": 2,
   "id": "featured-seafood",
   "metadata": {},
   "outputs": [
    {
     "data": {
      "text/plain": [
       "device(type='cuda')"
      ]
     },
     "execution_count": 2,
     "metadata": {},
     "output_type": "execute_result"
    }
   ],
   "source": [
    "device = torch.device(\"cuda\" if torch.cuda.is_available() else 'cpu')\n",
    "if (device.type == 'cuda') and (torch.cuda.device_count() >1):\n",
    "    print(\"Multi GPU activate\")\n",
    "# device = torch.device('cpu')\n",
    "device"
   ]
  },
  {
   "cell_type": "code",
   "execution_count": 3,
   "id": "8b470491-0939-4989-bc53-ef5387383933",
   "metadata": {},
   "outputs": [],
   "source": [
    "def minmax_normalization(x, min=1.0, max=100.0):\n",
    "    return (x - min) / (max - min)\n",
    "\n",
    "def inv_minmax_normalization(x_std, min=1, max=100):\n",
    "    return x_std * (max - min) + min "
   ]
  },
  {
   "cell_type": "code",
   "execution_count": 4,
   "id": "hawaiian-blind",
   "metadata": {},
   "outputs": [
    {
     "name": "stdout",
     "output_type": "stream",
     "text": [
      "\"./Trained_models/Results1_sim\" has been created.\n",
      "\"./Trained_models/Results2_sim\" has been created.\n"
     ]
    }
   ],
   "source": [
    "dataset_list = [\"Dataset1\" ]\n",
    "models_dir = \"Trained_models\"\n",
    "model_file_path = os.path.join(models_dir, f'params-150.pk')\n",
    "output_dir1 = f'./{models_dir}/Results1_sim'        \n",
    "if not os.path.exists(output_dir1):\n",
    "    os.makedirs(output_dir1)\n",
    "    print('\"%s\" has been created.'%(output_dir1))\n",
    "output_dir2 = f'./{models_dir}/Results2_sim'        \n",
    "if not os.path.exists(output_dir2):\n",
    "    os.makedirs(output_dir2)\n",
    "    print('\"%s\" has been created.'%(output_dir2))\n",
    "    \n",
    "batch_size = 128\n",
    "epochs = 100\n",
    "print_every = 1\n",
    "window = 20\n",
    "step_size = 10\n",
    "window_type = 'avg'\n",
    "emb_size = 512\n",
    "d_model = 512\n",
    "max_len = 2000\n",
    "\n",
    "patience = 1000"
   ]
  },
  {
   "cell_type": "code",
   "execution_count": 5,
   "id": "84128f2b-1927-4e2f-afaa-00125b575f38",
   "metadata": {},
   "outputs": [
    {
     "name": "stdout",
     "output_type": "stream",
     "text": [
      "(948, 47) (948, 2) (55, 47) (55, 2)\n"
     ]
    }
   ],
   "source": [
    "x_test_OK = []\n",
    "y_test_OK = []\n",
    "x_test_NG = []\n",
    "y_test_NG = []\n",
    "for ds in dataset_list:\n",
    "    ds_path = os.path.join(\"../Dataset\", ds)    \n",
    "    x_test_OK.append( np.load(os.path.join(ds_path, 'x_data_OK.npy')) )\n",
    "    y_test_OK.append( np.load(os.path.join(ds_path, 'y_data_OK.npy')) )\n",
    "    x_test_NG.append( np.load(os.path.join(ds_path, 'x_data_NG.npy')) )\n",
    "    y_test_NG.append( np.load(os.path.join(ds_path, 'y_data_NG.npy')) )\n",
    "\n",
    "x_test_OK = np.concatenate(x_test_OK, axis=0)\n",
    "y_test_OK = np.concatenate(y_test_OK, axis=0)\n",
    "x_test_NG = np.concatenate(x_test_NG, axis=0)\n",
    "y_test_NG = np.concatenate(y_test_NG, axis=0)\n",
    "\n",
    "print(x_test_OK.shape, y_test_OK.shape, x_test_NG.shape, y_test_NG.shape)"
   ]
  },
  {
   "cell_type": "code",
   "execution_count": 6,
   "id": "3a663526-3bed-4dd4-901b-d1232e0bab4c",
   "metadata": {},
   "outputs": [
    {
     "name": "stdout",
     "output_type": "stream",
     "text": [
      "--- 0.0 seconds ---\n"
     ]
    }
   ],
   "source": [
    "start_time = time.time()\n",
    "\n",
    "\n",
    "\n",
    "print(\"--- %s seconds ---\"%(time.time()-start_time))"
   ]
  },
  {
   "cell_type": "code",
   "execution_count": 7,
   "id": "b9826b81-9d83-4f46-ae74-6f19bc03773a",
   "metadata": {},
   "outputs": [
    {
     "name": "stdout",
     "output_type": "stream",
     "text": [
      "torch.Size([948, 47]) torch.Size([55, 47])\n",
      "torch.Size([948, 2]) torch.Size([55, 2])\n"
     ]
    }
   ],
   "source": [
    "x_test_OK = torch.tensor(x_test_OK).type(torch.float)\n",
    "y_test_OK = torch.tensor(y_test_OK).type(torch.float)\n",
    "x_test_NG = torch.tensor(x_test_NG).type(torch.float)\n",
    "y_test_NG = torch.tensor(y_test_NG).type(torch.float)\n",
    "\n",
    "y_test_OK = y_test_OK.view(-1, 2)\n",
    "y_test_NG = y_test_NG.view(-1, 2)\n",
    "\n",
    "print(x_test_OK.shape, x_test_NG.shape)\n",
    "print(y_test_OK.shape, y_test_NG.shape)"
   ]
  },
  {
   "cell_type": "code",
   "execution_count": 8,
   "id": "87dd9e69-7e31-43e2-ba88-d61f476e0606",
   "metadata": {},
   "outputs": [],
   "source": [
    "class DefectInspector0(torch.nn.Module):\n",
    "    def __init__(self,                            \n",
    "                 in_size: int = 47,\n",
    "                 out_size: int = 2,                                 \n",
    "                 dropout: float = 0.1\n",
    "                ):\n",
    "        super(DefectInspector0, self).__init__()\n",
    "\n",
    "        self.name = 'DefectInspector0'        \n",
    "        self.out_size = out_size\n",
    "        \n",
    "        self.linear1 = torch.nn.Linear(in_size, 200)\n",
    "        self.bn1 = torch.nn.BatchNorm1d(200)\n",
    "        self.relu1 = torch.nn.ReLU(inplace=False)\n",
    "        self.dropout1 = torch.nn.Dropout(dropout)\n",
    "        \n",
    "        self.linear2 = torch.nn.Linear(200, 200)\n",
    "        self.bn2 = torch.nn.BatchNorm1d(200)\n",
    "        self.relu2 = torch.nn.ReLU(inplace=False)\n",
    "        self.dropout1 = torch.nn.Dropout(dropout)\n",
    "        \n",
    "        self.linear3 = torch.nn.Linear(200, 200)\n",
    "        self.bn3 = torch.nn.BatchNorm1d(200)\n",
    "        self.relu3 = torch.nn.ReLU(inplace=False)\n",
    "        self.dropout1 = torch.nn.Dropout(dropout)\n",
    "        \n",
    "        self.final_linear = torch.nn.Linear(200, out_size, bias=True)  \n",
    "\n",
    "    def forward(self, src: torch.Tensor): # src : (B, S, F)   \n",
    "        \n",
    "        out = self.linear1(src)       # (B, S, emb_size)      \n",
    "        out = self.bn1(out)\n",
    "        out = F.relu(out)\n",
    "        \n",
    "        out = self.linear2(out)       # (B, S, emb_size)      \n",
    "        out = self.bn2(out)\n",
    "        out = F.relu(out)\n",
    "        \n",
    "        out = self.linear3(out)       # (B, S, emb_size)      \n",
    "        out = self.bn3(out)\n",
    "        out = F.relu(out)\n",
    "        \n",
    "        return self.final_linear(out)       # (B, S, emb_size)      "
   ]
  },
  {
   "cell_type": "code",
   "execution_count": 9,
   "id": "2c1e8467-8f93-496a-b2a1-f3f0e1bdcf55",
   "metadata": {},
   "outputs": [],
   "source": [
    "# # val_ds = TensorDataset(x_val, y_val)\n",
    "# test_ds = CustomDataset(x_test, y_test)\n",
    "# test_loader = DataLoader(test_ds, batch_size=BATCH_SIZE, shuffle=False, num_workers=4) \n",
    "# print(test_ds[0][0].shape, test_ds[0][1].shape)"
   ]
  },
  {
   "cell_type": "code",
   "execution_count": 10,
   "id": "0ab88170-e532-4d04-af0b-d033b3017b12",
   "metadata": {},
   "outputs": [
    {
     "name": "stdout",
     "output_type": "stream",
     "text": [
      "torch.Size([47]) torch.Size([2])\n"
     ]
    }
   ],
   "source": [
    "from torch.utils.data import  TensorDataset, DataLoader\n",
    "testOK_ds = TensorDataset(x_test_OK, y_test_OK)\n",
    "testOK_loader = DataLoader(testOK_ds, batch_size=batch_size, shuffle=False, num_workers=0)\n",
    "\n",
    "testNG_ds = TensorDataset(x_test_NG, y_test_NG)\n",
    "testNG_loader = DataLoader(testNG_ds, batch_size=batch_size, shuffle=False, num_workers=0)\n",
    "\n",
    "print(testOK_ds[0][0].shape, testOK_ds[0][1].shape)"
   ]
  },
  {
   "cell_type": "code",
   "execution_count": 15,
   "id": "981ad217-f0b5-487f-80a6-d9f0242f2170",
   "metadata": {},
   "outputs": [],
   "source": [
    "model = DefectInspector0(in_size=x_test_OK.shape[1],\n",
    "                         out_size=y_test_OK.shape[1])"
   ]
  },
  {
   "cell_type": "code",
   "execution_count": 16,
   "id": "17d941f3-8411-4f88-b09f-7e1f8b66c00b",
   "metadata": {},
   "outputs": [
    {
     "name": "stdout",
     "output_type": "stream",
     "text": [
      "Training time : 640.3473589420319s (0.17787426637278664h)\n"
     ]
    }
   ],
   "source": [
    "checkpoint = torch.load(model_file_path) \n",
    "model.load_state_dict(checkpoint['model_state_dict'])\n",
    "\n",
    "if torch.cuda.device_count() > 1:\n",
    "    model = nn.DataParallel(model, device_ids=[0,1])\n",
    "model.to(device)\n",
    "\n",
    "print(f\"Training time : {checkpoint['time']}s ({checkpoint['time']/60/60}h)\")"
   ]
  },
  {
   "cell_type": "code",
   "execution_count": 17,
   "id": "51bacad9-9ebe-44df-a95b-311d0fea7549",
   "metadata": {},
   "outputs": [
    {
     "name": "stdout",
     "output_type": "stream",
     "text": [
      "Best MSE for train dataset\n",
      "1 : (147, 0.000186)\n",
      "2 : (144, 0.000190)\n",
      "3 : (133, 0.000213)\n",
      "4 : (146, 0.000226)\n",
      "5 : (141, 0.000233)\n",
      "6 : (132, 0.000244)\n",
      "7 : (142, 0.000255)\n",
      "8 : (69, 0.000268)\n",
      "9 : (128, 0.000280)\n",
      "10 : (130, 0.000293)\n",
      "==================================================\n",
      "Best MSE for validation dataset\n",
      "1 : (20, 0.142797)\n",
      "2 : (33, 0.147419)\n",
      "3 : (12, 0.159975)\n",
      "4 : (24, 0.164642)\n",
      "5 : (11, 0.170769)\n",
      "6 : (10, 0.174556)\n",
      "7 : (34, 0.193469)\n",
      "8 : (16, 0.203002)\n",
      "9 : (89, 0.208682)\n",
      "10 : (25, 0.211025)\n",
      "----------------------------------------------------------------------------------------------------\n",
      "0.514171838760376 0.00018615269800648093\n",
      "2.542825222015381 0.14279697835445404\n"
     ]
    },
    {
     "data": {
      "image/png": "[encoded data removed]",
      "text/plain": [
       "<Figure size 432x288 with 1 Axes>"
      ]
     },
     "metadata": {
      "needs_background": "light"
     },
     "output_type": "display_data"
    },
    {
     "data": {
      "text/plain": [
       "0.3544009327888489"
      ]
     },
     "execution_count": 17,
     "metadata": {},
     "output_type": "execute_result"
    }
   ],
   "source": [
    "train_loss_arr = np.array(checkpoint['train_loss_li'])\n",
    "train_best_epoch = train_loss_arr.argsort() + 1\n",
    "print(\"Best MSE for train dataset\")\n",
    "for i, epoch in enumerate(train_best_epoch[:10]):\n",
    "    print(\"%d : (%d, %f)\"%(i+1, epoch, train_loss_arr[epoch-1]))\n",
    "\n",
    "print(\"=\"*50)\n",
    "\n",
    "print(\"Best MSE for validation dataset\")\n",
    "val_loss_arr = np.array(checkpoint['val_loss_li'])\n",
    "val_best_epoch = val_loss_arr.argsort() + 1\n",
    "for i, epoch in enumerate(val_best_epoch[:10]):\n",
    "    print(\"%d : (%d, %f)\"%(i+1, epoch, val_loss_arr[epoch-1]))\n",
    "\n",
    "print('-'*100)\n",
    "print(train_loss_arr.max(), train_loss_arr.min())\n",
    "print(val_loss_arr.max(), val_loss_arr.min())\n",
    "# plt.title(\"Loss\", fontsize=18) \n",
    "plt.xlabel( \"Epoch\", fontsize=14)\n",
    "plt.ylabel( \"Loss\", fontsize=14)\n",
    "# plt.ylim(0, 0.05)\n",
    "plt.plot(checkpoint['train_loss_li'], label='train loss')\n",
    "plt.plot(checkpoint['val_loss_li'], label='val loss')\n",
    "plt.legend(fontsize=14)\n",
    "plt.tight_layout()\n",
    "plt.savefig( os.path.join(output_dir1, 'train_val_loss1.jpg'), dpi=199) \n",
    "plt.show()\n",
    "checkpoint['val_loss_li'][-1]"
   ]
  },
  {
   "cell_type": "code",
   "execution_count": 18,
   "id": "81c6874e-a98a-4ae3-970b-1110ab138d78",
   "metadata": {},
   "outputs": [],
   "source": [
    "# for i, loss in enumerate(zip(checkpoint['train_loss_li'], checkpoint['val_loss_li'])):\n",
    "#     print(i+1, loss) "
   ]
  },
  {
   "cell_type": "code",
   "execution_count": 19,
   "id": "5c7b5ba2-0dbe-45cb-9756-7a1ec756125c",
   "metadata": {},
   "outputs": [],
   "source": [
    "def test(model, data_loader): \n",
    "    loss_sum = 0    \n",
    "    criterion = nn.BCELoss()# nn.CrossEntropyLoss() #nn.MSELoss()\n",
    "    nIter = 0\n",
    "    nSuccess = 0\n",
    "    with torch.no_grad(): \n",
    "        model.eval()   \n",
    "        for i, data in enumerate(data_loader):\n",
    "            output = model(data[0].to(device))     \n",
    "            out = F.softmax(output, dim=1)            \n",
    "            out_max, out_indices = torch.max(out.cpu(), dim=1)            \n",
    "            target_max, target_indices = torch.max(data[1], dim=1)\n",
    "#             print((out_indices!=target_indices))\n",
    "#             print((out_indices!=target_indices).sum())\n",
    "            nSuccess += (out_indices==target_indices).sum()\n",
    "            loss = criterion(out, data[1].to(device))\n",
    "            loss_sum += loss   \n",
    "            nIter+=1                \n",
    "    return nSuccess, loss_sum.item()/nIter"
   ]
  },
  {
   "cell_type": "code",
   "execution_count": 20,
   "id": "0d6a8681-c720-4c32-93be-bab746f162f2",
   "metadata": {},
   "outputs": [
    {
     "name": "stdout",
     "output_type": "stream",
     "text": [
      "99.47 %\n"
     ]
    }
   ],
   "source": [
    "nSuccess, loss = test(model, testOK_loader)\n",
    "print( f\"%.2f %%\"%(nSuccess/x_test_OK.shape[0]*100))"
   ]
  },
  {
   "cell_type": "code",
   "execution_count": 21,
   "id": "95884d3f-0820-4801-af35-c67e98efd194",
   "metadata": {},
   "outputs": [
    {
     "name": "stdout",
     "output_type": "stream",
     "text": [
      "67.27 %\n"
     ]
    }
   ],
   "source": [
    "nSuccess, loss = test(model, testNG_loader)\n",
    "print( f\"%.2f %%\"%(nSuccess/x_test_NG.shape[0]*100))"
   ]
  },
  {
   "cell_type": "code",
   "execution_count": null,
   "id": "c535ab61-6699-43bb-a7d8-53f8aa345c0b",
   "metadata": {},
   "outputs": [],
   "source": []
  },
  {
   "cell_type": "code",
   "execution_count": null,
   "id": "c3ce8be4-8829-458d-ba8b-192bd9278edb",
   "metadata": {},
   "outputs": [],
   "source": []
  },
  {
   "cell_type": "code",
   "execution_count": null,
   "id": "a4a0fe45-25bf-4f42-b523-5de28406a36b",
   "metadata": {},
   "outputs": [],
   "source": []
  },
  {
   "cell_type": "code",
   "execution_count": null,
   "id": "437eb7c0-a7bc-4814-9406-037b7e40b0f1",
   "metadata": {},
   "outputs": [],
   "source": []
  },
  {
   "cell_type": "code",
   "execution_count": null,
   "id": "royal-stroke",
   "metadata": {},
   "outputs": [],
   "source": [
    "print(\"Finish\")"
   ]
  },
  {
   "cell_type": "code",
   "execution_count": null,
   "id": "ce0e0765-1b8f-4b78-83ab-b5a5df793f51",
   "metadata": {},
   "outputs": [],
   "source": []
  },
  {
   "cell_type": "code",
   "execution_count": null,
   "id": "40938156-7f95-4d2a-8bae-1f72c0c80a28",
   "metadata": {},
   "outputs": [],
   "source": []
  },
  {
   "cell_type": "code",
   "execution_count": null,
   "id": "f1d86343-d0bf-4fbf-928b-9e1842e2dac8",
   "metadata": {},
   "outputs": [],
   "source": []
  }
 ],
 "metadata": {
  "kernelspec": {
   "display_name": "Python 3",
   "language": "python",
   "name": "python3"
  },
  "language_info": {
   "codemirror_mode": {
    "name": "ipython",
    "version": 3
   },
   "file_extension": ".py",
   "mimetype": "text/x-python",
   "name": "python",
   "nbconvert_exporter": "python",
   "pygments_lexer": "ipython3",
   "version": "3.8.10"
  }
 },
 "nbformat": 4,
 "nbformat_minor": 5
}
