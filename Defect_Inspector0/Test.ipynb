{
 "cells": [
  {
   "cell_type": "markdown",
   "id": "informative-mainland",
   "metadata": {},
   "source": [
    "# Conductance estimation of Ohara 2017 by EfficientNet"
   ]
  },
  {
   "cell_type": "code",
   "execution_count": 1,
   "id": "distinct-kernel",
   "metadata": {},
   "outputs": [
    {
     "name": "stdout",
     "output_type": "stream",
     "text": [
      "1.10.2+cu113\n"
     ]
    }
   ],
   "source": [
    "import os, sys, copy, time\n",
    "import math\n",
    "import random\n",
    "import numpy as np\n",
    "import matplotlib.pyplot as plt\n",
    "from datetime import datetime\n",
    "import pandas as pd\n",
    "import seaborn as sns\n",
    "import multiprocessing\n",
    "from functools import partial\n",
    "import cv2\n",
    "import skimage.io\n",
    "import torch\n",
    "import torch.nn as nn\n",
    "import torch.nn.functional as F\n",
    "import torch.nn.parallel\n",
    "import torch.backends.cudnn as cudnn\n",
    "import torch.optim as optim\n",
    "import torch.utils.data\n",
    "from torchvision import datasets, models, transforms\n",
    "import torchvision.utils as vutils\n",
    "import torchaudio.transforms as AT\n",
    "from torch.utils.data import  Dataset, TensorDataset, DataLoader\n",
    "from efficientnet_pytorch import EfficientNet\n",
    "from typing import Type, Any, Callable, Union, List, Optional\n",
    "from IPython.display import HTML\n",
    "from IPython import display\n",
    "import librosa.display\n",
    "from tqdm import tqdm\n",
    "from sklearn.model_selection import train_test_split\n",
    "\n",
    "random.seed(3)\n",
    "np.random.seed(3)\n",
    "torch.manual_seed(3)\n",
    "\n",
    "print(torch.__version__)"
   ]
  },
  {
   "cell_type": "code",
   "execution_count": 2,
   "id": "featured-seafood",
   "metadata": {},
   "outputs": [
    {
     "name": "stdout",
     "output_type": "stream",
     "text": [
      "Multi GPU activate\n"
     ]
    },
    {
     "data": {
      "text/plain": [
       "device(type='cuda')"
      ]
     },
     "execution_count": 2,
     "metadata": {},
     "output_type": "execute_result"
    }
   ],
   "source": [
    "device = torch.device(\"cuda\" if torch.cuda.is_available() else 'cpu')\n",
    "if (device.type == 'cuda') and (torch.cuda.device_count() >1):\n",
    "    print(\"Multi GPU activate\")\n",
    "# device = torch.device('cpu')\n",
    "device"
   ]
  },
  {
   "cell_type": "code",
   "execution_count": 3,
   "id": "8b470491-0939-4989-bc53-ef5387383933",
   "metadata": {},
   "outputs": [],
   "source": [
    "def minmax_normalization(x, min=1.0, max=100.0):\n",
    "    return (x - min) / (max - min)\n",
    "\n",
    "def inv_minmax_normalization(x_std, min=1, max=100):\n",
    "    return x_std * (max - min) + min "
   ]
  },
  {
   "cell_type": "code",
   "execution_count": 4,
   "id": "hawaiian-blind",
   "metadata": {},
   "outputs": [],
   "source": [
    "batch_size = 100\n",
    "epochs = 300\n",
    "print_every = 1\n",
    "# window = 20\n",
    "# step_size = 10\n",
    "# window_type = 'avg'\n",
    "# emb_size = 512\n",
    "# d_model = 512\n",
    "# max_len = 2000\n",
    "patience = 1000\n",
    "\n",
    "dataset_list = [\"DS_testOK80NG20_type1\"]\n",
    "models_dir = \"./Trained_models-l4-256\"\n",
    "model_file_path = os.path.join(models_dir, f'params-300.pk')"
   ]
  },
  {
   "cell_type": "code",
   "execution_count": 5,
   "id": "84d51d1f-28c4-44d6-bbfe-c47d8454c215",
   "metadata": {},
   "outputs": [],
   "source": [
    "output_dir1 = f'./{models_dir}/Results1_sim'        \n",
    "if not os.path.exists(output_dir1):\n",
    "    os.makedirs(output_dir1)\n",
    "    print('\"%s\" has been created.'%(output_dir1))\n",
    "output_dir2 = f'./{models_dir}/Results2_sim'        \n",
    "if not os.path.exists(output_dir2):\n",
    "    os.makedirs(output_dir2)\n",
    "    print('\"%s\" has been created.'%(output_dir2))\n"
   ]
  },
  {
   "cell_type": "code",
   "execution_count": 6,
   "id": "84128f2b-1927-4e2f-afaa-00125b575f38",
   "metadata": {},
   "outputs": [
    {
     "name": "stdout",
     "output_type": "stream",
     "text": [
      "(1355, 47) (1355, 2) (50, 47) (50, 2)\n",
      "(80, 47) (80, 2) (20, 47) (20, 2)\n",
      "(100, 47) (100, 2)\n"
     ]
    }
   ],
   "source": [
    "x_train_OK = []\n",
    "y_train_OK = []\n",
    "x_train_NG = []\n",
    "y_train_NG = []\n",
    "x_test_OK = []\n",
    "y_test_OK = []\n",
    "x_test_NG = []\n",
    "y_test_NG = []\n",
    "for ds in dataset_list:\n",
    "    ds_path = os.path.join(\"../Dataset\", ds)    \n",
    "    x_train_OK.append( np.load(os.path.join(ds_path, 'x_train_OK.npy')) )\n",
    "    y_train_OK.append( np.load(os.path.join(ds_path, 'y_train_OK.npy')) )\n",
    "    x_train_NG.append( np.load(os.path.join(ds_path, 'x_train_NG.npy')) )\n",
    "    y_train_NG.append( np.load(os.path.join(ds_path, 'y_train_NG.npy')) )\n",
    "    x_test_OK.append( np.load(os.path.join(ds_path, 'x_test_OK.npy')) )\n",
    "    y_test_OK.append( np.load(os.path.join(ds_path, 'y_test_OK.npy')) )\n",
    "    x_test_NG.append( np.load(os.path.join(ds_path, 'x_test_NG.npy')) )\n",
    "    y_test_NG.append( np.load(os.path.join(ds_path, 'y_test_NG.npy')) )\n",
    "\n",
    "x_train_OK = np.concatenate(x_train_OK, axis=0)\n",
    "y_train_OK = np.concatenate(y_train_OK, axis=0)\n",
    "x_train_NG = np.concatenate(x_train_NG, axis=0)\n",
    "y_train_NG = np.concatenate(y_train_NG, axis=0)\n",
    "x_test_OK = np.concatenate(x_test_OK, axis=0)\n",
    "y_test_OK = np.concatenate(y_test_OK, axis=0)\n",
    "x_test_NG = np.concatenate(x_test_NG, axis=0)\n",
    "y_test_NG = np.concatenate(y_test_NG, axis=0)\n",
    "x_test = np.concatenate([x_test_OK, x_test_NG], axis=0)\n",
    "y_test = np.concatenate([y_test_OK, y_test_NG], axis=0)\n",
    "\n",
    "print(x_train_OK.shape, y_train_OK.shape, x_train_NG.shape, y_train_NG.shape)\n",
    "print(x_test_OK.shape, y_test_OK.shape, x_test_NG.shape, y_test_NG.shape)\n",
    "print(x_test.shape, y_test.shape)"
   ]
  },
  {
   "cell_type": "code",
   "execution_count": 7,
   "id": "3a663526-3bed-4dd4-901b-d1232e0bab4c",
   "metadata": {},
   "outputs": [
    {
     "name": "stdout",
     "output_type": "stream",
     "text": [
      "--- 7.414817810058594e-05 seconds ---\n"
     ]
    }
   ],
   "source": [
    "start_time = time.time()\n",
    "\n",
    "\n",
    "\n",
    "print(\"--- %s seconds ---\"%(time.time()-start_time))"
   ]
  },
  {
   "cell_type": "code",
   "execution_count": 8,
   "id": "b9826b81-9d83-4f46-ae74-6f19bc03773a",
   "metadata": {},
   "outputs": [
    {
     "name": "stdout",
     "output_type": "stream",
     "text": [
      "torch.Size([80, 47]) torch.Size([20, 47])\n",
      "torch.Size([80, 2]) torch.Size([20, 2])\n",
      "torch.Size([100, 2]) torch.Size([100, 2])\n"
     ]
    }
   ],
   "source": [
    "x_test_OK = torch.tensor(x_test_OK).type(torch.float)\n",
    "y_test_OK = torch.tensor(y_test_OK).type(torch.float)\n",
    "x_test_NG = torch.tensor(x_test_NG).type(torch.float)\n",
    "y_test_NG = torch.tensor(y_test_NG).type(torch.float)\n",
    "x_test = torch.tensor(x_test).type(torch.float)\n",
    "y_test = torch.tensor(y_test).type(torch.float)\n",
    "\n",
    "y_test_OK = y_test_OK.view(-1, 2)\n",
    "y_test_NG = y_test_NG.view(-1, 2)\n",
    "y_test = y_test.view(-1, 2)\n",
    "\n",
    "print(x_test_OK.shape, x_test_NG.shape)\n",
    "print(y_test_OK.shape, y_test_NG.shape)\n",
    "print(y_test.shape, y_test.shape)"
   ]
  },
  {
   "cell_type": "code",
   "execution_count": 14,
   "id": "87dd9e69-7e31-43e2-ba88-d61f476e0606",
   "metadata": {},
   "outputs": [],
   "source": [
    "class DefectInspector0(torch.nn.Module):\n",
    "    def __init__(self,                            \n",
    "                 in_size: int = 47,\n",
    "                 out_size: int = 2,                                 \n",
    "                 dropout: float = 0.1\n",
    "                ):\n",
    "        super(DefectInspector0, self).__init__()\n",
    "\n",
    "        layer_size = 256\n",
    "        self.name = 'DefectInspector0'        \n",
    "        self.out_size = out_size\n",
    "        \n",
    "        self.linear1 = torch.nn.Linear(in_size, layer_size)\n",
    "        self.bn1 = torch.nn.BatchNorm1d(layer_size)\n",
    "        self.relu1 = torch.nn.ReLU(inplace=False)\n",
    "        self.dropout1 = torch.nn.Dropout(dropout)\n",
    "        \n",
    "        self.linear2 = torch.nn.Linear(layer_size, layer_size)\n",
    "        self.bn2 = torch.nn.BatchNorm1d(layer_size)\n",
    "        self.relu2 = torch.nn.ReLU(inplace=False)\n",
    "        self.dropout2 = torch.nn.Dropout(dropout)\n",
    "        \n",
    "        self.linear3 = torch.nn.Linear(layer_size, layer_size)\n",
    "        self.bn3 = torch.nn.BatchNorm1d(layer_size)\n",
    "        self.relu3 = torch.nn.ReLU(inplace=False)\n",
    "        self.dropout3 = torch.nn.Dropout(dropout)\n",
    "        \n",
    "        self.linear4 = torch.nn.Linear(layer_size, layer_size)\n",
    "        self.bn4 = torch.nn.BatchNorm1d(layer_size)\n",
    "        self.relu4 = torch.nn.ReLU(inplace=False)\n",
    "        self.dropout4 = torch.nn.Dropout(dropout)\n",
    "        \n",
    "#         self.linear5 = torch.nn.Linear(layer_size, layer_size)\n",
    "#         self.bn5 = torch.nn.BatchNorm1d(layer_size)\n",
    "#         self.relu5 = torch.nn.ReLU(inplace=False)\n",
    "#         self.dropout5 = torch.nn.Dropout(dropout)\n",
    "        \n",
    "#         self.linear6 = torch.nn.Linear(layer_size, layer_size)\n",
    "#         self.bn6 = torch.nn.BatchNorm1d(layer_size)\n",
    "#         self.relu6 = torch.nn.ReLU(inplace=False)\n",
    "#         self.dropout6 = torch.nn.Dropout(dropout)\n",
    "        \n",
    "        self.final_linear = torch.nn.Linear(layer_size, out_size, bias=True)  \n",
    "\n",
    "    def forward(self, src: torch.Tensor): # src : (B, S, F)   \n",
    "        \n",
    "        out = self.linear1(src)       # (B, S, emb_size)      \n",
    "        out = self.bn1(out)\n",
    "        out = F.relu(out)\n",
    "        \n",
    "        out = self.linear2(out)       # (B, S, emb_size)      \n",
    "        out = self.bn2(out)\n",
    "        out = F.relu(out)\n",
    "        \n",
    "        out = self.linear3(out)       # (B, S, emb_size)      \n",
    "        out = self.bn3(out)\n",
    "        out = F.relu(out)\n",
    "        \n",
    "        out = self.linear4(out)       # (B, S, emb_size)      \n",
    "        out = self.bn4(out)\n",
    "        out = F.relu(out)\n",
    "        \n",
    "#         out = self.linear5(out)       # (B, S, emb_size)      \n",
    "#         out = self.bn5(out)\n",
    "#         out = F.relu(out)\n",
    "        \n",
    "#         out = self.linear6(out)       # (B, S, emb_size)      \n",
    "#         out = self.bn6(out)\n",
    "#         out = F.relu(out)\n",
    "        \n",
    "        return self.final_linear(out)       # (B, S, emb_size)      "
   ]
  },
  {
   "cell_type": "code",
   "execution_count": 15,
   "id": "2c1e8467-8f93-496a-b2a1-f3f0e1bdcf55",
   "metadata": {},
   "outputs": [],
   "source": [
    "# # val_ds = TensorDataset(x_val, y_val)\n",
    "# test_ds = CustomDataset(x_test, y_test)\n",
    "# test_loader = DataLoader(test_ds, batch_size=BATCH_SIZE, shuffle=False, num_workers=4) \n",
    "# print(test_ds[0][0].shape, test_ds[0][1].shape)"
   ]
  },
  {
   "cell_type": "code",
   "execution_count": 16,
   "id": "0ab88170-e532-4d04-af0b-d033b3017b12",
   "metadata": {},
   "outputs": [
    {
     "name": "stdout",
     "output_type": "stream",
     "text": [
      "torch.Size([47]) torch.Size([2])\n"
     ]
    }
   ],
   "source": [
    "from torch.utils.data import  TensorDataset, DataLoader\n",
    "testOK_ds = TensorDataset(x_test_OK, y_test_OK)\n",
    "testOK_loader = DataLoader(testOK_ds, batch_size=batch_size, shuffle=False, num_workers=4)\n",
    "\n",
    "testNG_ds = TensorDataset(x_test_NG, y_test_NG)\n",
    "testNG_loader = DataLoader(testNG_ds, batch_size=batch_size, shuffle=False, num_workers=4)\n",
    "\n",
    "test_ds = TensorDataset(x_test, y_test)\n",
    "test_loader = DataLoader(test_ds, batch_size=batch_size, shuffle=False, num_workers=4)\n",
    "\n",
    "print(testOK_ds[0][0].shape, testOK_ds[0][1].shape)"
   ]
  },
  {
   "cell_type": "code",
   "execution_count": 17,
   "id": "981ad217-f0b5-487f-80a6-d9f0242f2170",
   "metadata": {},
   "outputs": [],
   "source": [
    "model = DefectInspector0(in_size=x_test_OK.shape[1],\n",
    "                         out_size=y_test_OK.shape[1])"
   ]
  },
  {
   "cell_type": "code",
   "execution_count": 18,
   "id": "17d941f3-8411-4f88-b09f-7e1f8b66c00b",
   "metadata": {},
   "outputs": [
    {
     "name": "stdout",
     "output_type": "stream",
     "text": [
      "Training time : 478.3393430709839s (0.13287203974193998h)\n"
     ]
    }
   ],
   "source": [
    "checkpoint = torch.load(model_file_path) \n",
    "model.load_state_dict(checkpoint['model_state_dict'])\n",
    "\n",
    "# if torch.cuda.device_count() > 1:\n",
    "#     model = nn.DataParallel(model, device_ids=[0,1])\n",
    "model.to(device)\n",
    "\n",
    "print(f\"Training time : {checkpoint['time']}s ({checkpoint['time']/60/60}h)\")"
   ]
  },
  {
   "cell_type": "code",
   "execution_count": 19,
   "id": "51bacad9-9ebe-44df-a95b-311d0fea7549",
   "metadata": {},
   "outputs": [
    {
     "name": "stdout",
     "output_type": "stream",
     "text": [
      "Best MSE for train dataset\n",
      "1 : (300, 1.000000)\n",
      "2 : (146, 1.000000)\n",
      "3 : (177, 1.000000)\n",
      "4 : (176, 1.000000)\n",
      "5 : (175, 1.000000)\n",
      "6 : (174, 1.000000)\n",
      "7 : (172, 1.000000)\n",
      "8 : (171, 1.000000)\n",
      "9 : (170, 1.000000)\n",
      "10 : (169, 1.000000)\n",
      "==================================================\n",
      "Best MSE for validation dataset\n",
      "1 : (30, 0.970000)\n",
      "2 : (31, 0.970000)\n",
      "3 : (73, 0.970000)\n",
      "4 : (72, 0.970000)\n",
      "5 : (71, 0.970000)\n",
      "6 : (51, 0.970000)\n",
      "7 : (196, 0.960000)\n",
      "8 : (175, 0.960000)\n",
      "9 : (147, 0.960000)\n",
      "10 : (184, 0.960000)\n",
      "----------------------------------------------------------------------------------------------------\n",
      "1.0 0.39003559947013855\n",
      "0.9699999690055847 0.20999999344348907\n"
     ]
    },
    {
     "data": {
      "image/png": "[encoded data removed]",
      "text/plain": [
       "<Figure size 432x288 with 1 Axes>"
      ]
     },
     "metadata": {
      "needs_background": "light"
     },
     "output_type": "display_data"
    },
    {
     "data": {
      "image/png": "[encoded data removed]",
      "text/plain": [
       "<Figure size 432x288 with 1 Axes>"
      ]
     },
     "metadata": {
      "needs_background": "light"
     },
     "output_type": "display_data"
    }
   ],
   "source": [
    "train_acc_arr = np.array(checkpoint['train_acc_li'])\n",
    "train_best = train_acc_arr.argsort()[::-1] + 1\n",
    "print(\"Best MSE for train dataset\")\n",
    "for i, epoch in enumerate(train_best[:10]):\n",
    "    print(\"%d : (%d, %f)\"%(i+1, epoch, train_acc_arr[epoch-1]))\n",
    "\n",
    "print(\"=\"*50)\n",
    "\n",
    "print(\"Best MSE for validation dataset\")\n",
    "val_acc_arr = np.array(checkpoint['val_acc_li'])\n",
    "val_best = val_acc_arr.argsort()[::-1] + 1\n",
    "\n",
    "for i, epoch in enumerate(val_best[:10]):    \n",
    "    print(\"%d : (%d, %f)\"%(i+1, epoch, val_acc_arr[epoch-1]))\n",
    "\n",
    "print('-'*100)\n",
    "print(train_acc_arr.max(), train_acc_arr.min())\n",
    "print(val_acc_arr.max(), val_acc_arr.min())\n",
    "# plt.title(\"Loss\", fontsize=18) \n",
    "plt.xlabel( \"Epoch\", fontsize=14)\n",
    "plt.ylabel( \"Loss\", fontsize=14)\n",
    "# plt.ylim(0, 0.05)\n",
    "plt.plot(checkpoint['train_loss_li'], label='train loss')\n",
    "plt.plot(checkpoint['val_loss_li'], label='val loss')\n",
    "plt.legend(fontsize=14)\n",
    "plt.tight_layout()\n",
    "plt.savefig( os.path.join(output_dir1, 'train_val_loss1.jpg'), dpi=199) \n",
    "plt.show()\n",
    "\n",
    "plt.xlabel( \"Epoch\", fontsize=14)\n",
    "plt.ylabel( \"Accuracy\", fontsize=14)\n",
    "# plt.ylim(0, 0.05)\n",
    "plt.plot(checkpoint['train_acc_li'], label='train acc')\n",
    "plt.plot(checkpoint['val_acc_li'], label='val acc')\n",
    "plt.legend(fontsize=14)\n",
    "plt.tight_layout()\n",
    "plt.savefig( os.path.join(output_dir1, 'train_val_acc.jpg'), dpi=199) \n",
    "plt.show()"
   ]
  },
  {
   "cell_type": "code",
   "execution_count": 20,
   "id": "5c7b5ba2-0dbe-45cb-9756-7a1ec756125c",
   "metadata": {},
   "outputs": [],
   "source": [
    "def test(model, data_loader, device=torch.device('cpu')): \n",
    "    accuracy_sum = 0\n",
    "    loss_sum = 0    \n",
    "    criterion = nn.BCELoss()# nn.CrossEntropyLoss() #nn.MSELoss()\n",
    "    nIter = 0    \n",
    "    pred_li = []\n",
    "    prob_li = []\n",
    "    with torch.no_grad(): \n",
    "        model.eval()   \n",
    "        for i, data in enumerate(data_loader):\n",
    "            output = model(data[0].to(device)).to(device)            \n",
    "            probs = F.softmax(output, dim=1)                        \n",
    "            out_max, preds = torch.max(probs, dim=1)            \n",
    "            target_max, targets = torch.max(data[1].to(device), dim=1)            \n",
    "            accuracy = (preds==targets).sum()/data[0].size(0)                     \n",
    "            accuracy_sum += accuracy            \n",
    "            loss = criterion(F.softmax(output, dim=1), data[1].to(device))\n",
    "            loss_sum += loss   \n",
    "            pred_li.append(preds.cpu().numpy())\n",
    "            prob_li.append(probs.cpu().numpy())\n",
    "            nIter+=1                \n",
    "    return np.concatenate(pred_li, axis=0), np.concatenate(prob_li, axis=0), loss_sum.item()/nIter, accuracy_sum/nIter\n"
   ]
  },
  {
   "cell_type": "code",
   "execution_count": 21,
   "id": "19aceaaf-c3c1-4346-8caf-d5d37c22faf1",
   "metadata": {},
   "outputs": [
    {
     "name": "stdout",
     "output_type": "stream",
     "text": [
      "model No : 30\n",
      "98.75 %\n",
      "90.00 %\n",
      "--------------------------------------------------\n",
      "model No : 31\n",
      "98.75 %\n",
      "90.00 %\n",
      "--------------------------------------------------\n",
      "model No : 73\n",
      "100.00 %\n",
      "85.00 %\n",
      "--------------------------------------------------\n"
     ]
    }
   ],
   "source": [
    "for modelNo in val_best[:3]:\n",
    "    checkpoint = torch.load(os.path.join(models_dir, f'params-{modelNo}.pk')) \n",
    "    model.load_state_dict(checkpoint['model_state_dict'])\n",
    "    model.to(device)\n",
    "    _, _, OK_loss, OK_accuracy = test(model, testOK_loader, device)\n",
    "    _, _, NG_loss, NG_accuracy = test(model, testNG_loader, device)\n",
    "    \n",
    "    print( f\"model No : {modelNo}\")\n",
    "    print( f\"%.2f %%\"%(OK_accuracy*100))\n",
    "    print( f\"%.2f %%\"%(NG_accuracy*100))\n",
    "    print(\"-\"*50)\n",
    "    "
   ]
  },
  {
   "cell_type": "code",
   "execution_count": 22,
   "id": "621784b9-3734-4e3a-9766-e0a32539a160",
   "metadata": {},
   "outputs": [],
   "source": [
    "import matplotlib.cm as cm\n",
    "def plot_roc_curve(fper, tper, auc, acc):\n",
    "    fig, ax = plt.subplots(1, 1, figsize=(8,8))\n",
    "    ax.set_title( \"Receiver Operating Characteristic(ROC) Curve\" )\n",
    "    ax.set_xlabel( \"False Positive Rate\" )\n",
    "    ax.set_ylabel( \"True Positive Rate\" )\n",
    "    ax.plot([0,1], [0,1], color='green', linestyle='--')\n",
    "    ax.plot(fper, tper, color='red', label='ROC')\n",
    "    textstr = f\"Accuracy : %.2f%% \\nAUC : %0.4f  \"%(accuracy*100, auc)\n",
    "    props = dict(boxstyle='round', facecolor='wheat', alpha=0.5)        \n",
    "    ax.text(0.65, 0.25, textstr, transform=ax.transAxes, fontsize=14, verticalalignment='top', bbox=props)    \n",
    "    \n",
    "    plt.legend()\n",
    "    plt.savefig( f\"{models_dir[2:]}.jpg\", dpi=100)\n",
    "    plt.show()\n",
    "    \n",
    "    \n",
    "    # plt.plot(fper, tper, color='red', label='ROC')\n",
    "    # plt.plot([0, 1], [0, 1], color='green', linestyle='--')\n",
    "    # plt.xlabel('False Positive Rate')\n",
    "    # plt.ylabel('True Positive Rate')\n",
    "    # plt.title('Receiver Operating Characteristic Curve')\n",
    "    # plt.legend()\n",
    "    # plt.show()\n",
    "    # plt.savefig( f'{models_dir[2:]}.jpg', dpi=100) "
   ]
  },
  {
   "cell_type": "code",
   "execution_count": 23,
   "id": "9535c5c9-e017-4182-9881-90c1b5b79daf",
   "metadata": {},
   "outputs": [
    {
     "name": "stdout",
     "output_type": "stream",
     "text": [
      "--------------------------------------------------\n"
     ]
    }
   ],
   "source": [
    "checkpoint = torch.load(os.path.join(models_dir, f'params-{val_best[0]}.pk')) \n",
    "model.load_state_dict(checkpoint['model_state_dict'])\n",
    "model.to(device)\n",
    "print('-'*50)"
   ]
  },
  {
   "cell_type": "code",
   "execution_count": 24,
   "id": "c535ab61-6699-43bb-a7d8-53f8aa345c0b",
   "metadata": {},
   "outputs": [
    {
     "data": {
      "image/png": "[encoded data removed]",
      "text/plain": [
       "<Figure size 576x576 with 1 Axes>"
      ]
     },
     "metadata": {
      "needs_background": "light"
     },
     "output_type": "display_data"
    },
    {
     "name": "stdout",
     "output_type": "stream",
     "text": [
      "Accuracy for OK : 98.75%\n",
      "Accuracy for NG : 90.00%\n",
      "Accuracy : 97.00%\n",
      "Recall-binary : 0.9000\n",
      "Recall-micro : 0.9700\n",
      "Recall-macro : 0.9438\n",
      "AUC score : 0.9456\n"
     ]
    }
   ],
   "source": [
    "from sklearn.metrics import roc_curve, roc_auc_score, recall_score\n",
    "\n",
    "_, _, OK_loss, OK_accuracy = test(model, testOK_loader, device)\n",
    "_, _, NG_loss, NG_accuracy = test(model, testNG_loader, device)\n",
    "preds, probs, loss, accuracy = test(model, test_loader, device)\n",
    "\n",
    "_, targets = torch.max(y_test, dim=1)\n",
    "targets = targets.numpy()\n",
    "\n",
    "fprs, tprs, thresholds = roc_curve(targets, probs[:, 1])\n",
    "accuracy = (preds==targets).sum()/x_test.size(0)           \n",
    "recall_binary = recall_score(targets, preds, average='binary')\n",
    "recall_micro = recall_score(targets, preds, average='micro')\n",
    "recall_macro = recall_score(targets, preds, average='macro') # binary  micro  macro  weighted  samples\n",
    "auc = roc_auc_score(targets, probs[:, 1])\n",
    "\n",
    "plot_roc_curve(fprs, tprs, auc, accuracy*100) \n",
    "print(f\"Accuracy for OK : %.2f%%\"%(OK_accuracy*100))\n",
    "print(f\"Accuracy for NG : %.2f%%\"%(NG_accuracy*100))\n",
    "print(f\"Accuracy : %.2f%%\"%(accuracy*100))\n",
    "print(f\"Recall-binary : %.4f\"%(recall_binary))\n",
    "print(f\"Recall-micro : %.4f\"%(recall_micro))\n",
    "print(f\"Recall-macro : %.4f\"%(recall_macro))\n",
    "print(f\"AUC score : %.4f\"%(auc))"
   ]
  },
  {
   "cell_type": "code",
   "execution_count": null,
   "id": "c9dc1630-c57b-496a-9651-ef721c6c26bb",
   "metadata": {},
   "outputs": [],
   "source": []
  },
  {
   "cell_type": "code",
   "execution_count": 25,
   "id": "royal-stroke",
   "metadata": {},
   "outputs": [
    {
     "name": "stdout",
     "output_type": "stream",
     "text": [
      "Finish\n"
     ]
    }
   ],
   "source": [
    "print(\"Finish\")"
   ]
  },
  {
   "cell_type": "code",
   "execution_count": null,
   "id": "f1d86343-d0bf-4fbf-928b-9e1842e2dac8",
   "metadata": {},
   "outputs": [],
   "source": []
  },
  {
   "cell_type": "code",
   "execution_count": null,
   "id": "c7184c52-c8b2-4912-9a08-d0a72beaadcd",
   "metadata": {},
   "outputs": [],
   "source": []
  }
 ],
 "metadata": {
  "kernelspec": {
   "display_name": "Python 3 (ipykernel)",
   "language": "python",
   "name": "python3"
  },
  "language_info": {
   "codemirror_mode": {
    "name": "ipython",
    "version": 3
   },
   "file_extension": ".py",
   "mimetype": "text/x-python",
   "name": "python",
   "nbconvert_exporter": "python",
   "pygments_lexer": "ipython3",
   "version": "3.7.11"
  }
 },
 "nbformat": 4,
 "nbformat_minor": 5
}
