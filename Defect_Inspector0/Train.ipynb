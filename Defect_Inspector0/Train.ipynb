{
 "cells": [
  {
   "cell_type": "code",
   "execution_count": 1,
   "id": "47139596-c31c-43c4-941f-f869ab314614",
   "metadata": {},
   "outputs": [
    {
     "name": "stdout",
     "output_type": "stream",
     "text": [
      "1.10.2+cu113\n"
     ]
    }
   ],
   "source": [
    "import os, sys, copy, time\n",
    "import math\n",
    "import random\n",
    "import numpy as np\n",
    "import matplotlib.pyplot as plt\n",
    "from datetime import datetime\n",
    "import pandas as pd\n",
    "import seaborn as sns\n",
    "import multiprocessing\n",
    "from functools import partial\n",
    "import cv2\n",
    "import skimage.io\n",
    "import torch\n",
    "import torch.nn as nn\n",
    "import torch.nn.functional as F\n",
    "import torch.nn.parallel\n",
    "import torch.backends.cudnn as cudnn\n",
    "import torch.optim as optim\n",
    "import torch.utils.data\n",
    "from torchvision import datasets, models, transforms\n",
    "import torchvision.utils as vutils\n",
    "import torchaudio.transforms as AT\n",
    "from torch.utils.data import  Dataset, TensorDataset, DataLoader\n",
    "from efficientnet_pytorch import EfficientNet\n",
    "from typing import Type, Any, Callable, Union, List, Optional\n",
    "from IPython.display import HTML\n",
    "from IPython import display\n",
    "import librosa.display\n",
    "from tqdm import tqdm\n",
    "from sklearn.model_selection import train_test_split\n",
    "\n",
    "random.seed(3)\n",
    "np.random.seed(3)\n",
    "torch.manual_seed(3)\n",
    "\n",
    "print(torch.__version__)"
   ]
  },
  {
   "cell_type": "code",
   "execution_count": 2,
   "id": "250f620b-e62a-4dbe-89cc-21702ea5637e",
   "metadata": {},
   "outputs": [
    {
     "name": "stdout",
     "output_type": "stream",
     "text": [
      "Multi GPU activate\n"
     ]
    },
    {
     "data": {
      "text/plain": [
       "device(type='cuda')"
      ]
     },
     "execution_count": 2,
     "metadata": {},
     "output_type": "execute_result"
    }
   ],
   "source": [
    "device = torch.device(\"cuda\" if torch.cuda.is_available() else 'cpu')\n",
    "if (device.type == 'cuda') and (torch.cuda.device_count() >1):\n",
    "    print(\"Multi GPU activate\")\n",
    "device"
   ]
  },
  {
   "cell_type": "markdown",
   "id": "77ccedbf-dea9-4d40-ae2a-5d5db1ec4543",
   "metadata": {},
   "source": [
    "### Parameters"
   ]
  },
  {
   "cell_type": "code",
   "execution_count": 3,
   "id": "e9ce465f-05e2-4ac1-b106-0ccc578b41e8",
   "metadata": {},
   "outputs": [],
   "source": [
    "batch_size = 2048\n",
    "epochs = 300\n",
    "print_every = 1\n",
    "# window = 20\n",
    "# step_size = 10\n",
    "# window_type = 'avg'\n",
    "# emb_size = 512\n",
    "# d_model = 512\n",
    "# max_len = 2000\n",
    "patience = 1000\n",
    "\n",
    "dataset_list = [\"DS_testOK80NG20_type1\"]\n",
    "model_save_dir = \"./Trained_models-l6-512\"\n",
    "existing_model_path = os.path.join(model_save_dir, 'params-1001.pk')"
   ]
  },
  {
   "cell_type": "code",
   "execution_count": 4,
   "id": "13925874-2756-4ca4-9be6-ab04f48e42aa",
   "metadata": {},
   "outputs": [
    {
     "name": "stdout",
     "output_type": "stream",
     "text": [
      "\"./Trained_models-l6-512\" has been created.\n"
     ]
    }
   ],
   "source": [
    "if not os.path.exists(model_save_dir):\n",
    "    os.makedirs(model_save_dir)\n",
    "    print('\"%s\" has been created.'%(model_save_dir))\n",
    "else:\n",
    "    print(\"The folder already exists.\")    \n",
    "   "
   ]
  },
  {
   "cell_type": "markdown",
   "id": "d7869909-ee8b-4dbf-8c3f-6ba7e2a6daf1",
   "metadata": {},
   "source": [
    "### Get data"
   ]
  },
  {
   "cell_type": "code",
   "execution_count": 5,
   "id": "c56ce6a6-abbe-4eed-a1b9-d9965d5854e4",
   "metadata": {},
   "outputs": [
    {
     "name": "stdout",
     "output_type": "stream",
     "text": [
      "(1405, 47) (1405, 2) (100, 47) (100, 2)\n"
     ]
    }
   ],
   "source": [
    "x_train = []\n",
    "y_train = []\n",
    "x_test = []\n",
    "y_test = []\n",
    "for ds in dataset_list:\n",
    "    ds_path = os.path.join(\"../Dataset\", ds)    \n",
    "    x_train.append( np.load(os.path.join(ds_path, 'x_train_OK.npy')) )\n",
    "    y_train.append( np.load(os.path.join(ds_path, 'y_train_OK.npy')) )\n",
    "    x_train.append( np.load(os.path.join(ds_path, 'x_train_NG.npy')) )\n",
    "    y_train.append( np.load(os.path.join(ds_path, 'y_train_NG.npy')) )\n",
    "    x_test.append( np.load(os.path.join(ds_path, 'x_test_OK.npy')) )\n",
    "    y_test.append( np.load(os.path.join(ds_path, 'y_test_OK.npy')) )\n",
    "    x_test.append( np.load(os.path.join(ds_path, 'x_test_NG.npy')) )\n",
    "    y_test.append( np.load(os.path.join(ds_path, 'y_test_NG.npy')) )\n",
    "\n",
    "x_train = np.concatenate(x_train, axis=0)\n",
    "y_train = np.concatenate(y_train, axis=0)\n",
    "x_test = np.concatenate(x_test, axis=0)\n",
    "y_test = np.concatenate(y_test, axis=0)\n",
    "\n",
    "print(x_train.shape, y_train.shape, x_test.shape, y_test.shape)"
   ]
  },
  {
   "cell_type": "markdown",
   "id": "8e7d1b09-abb0-4706-834a-bf37a225ad76",
   "metadata": {},
   "source": [
    "### Split dataset"
   ]
  },
  {
   "cell_type": "code",
   "execution_count": 6,
   "id": "c964cf9e-7aca-4bd6-9e90-19ed17969839",
   "metadata": {},
   "outputs": [
    {
     "name": "stdout",
     "output_type": "stream",
     "text": [
      "--- 0.00019884109497070312 seconds ---\n"
     ]
    }
   ],
   "source": [
    "start_time = time.time()\n",
    "\n",
    "x_val = copy.deepcopy(x_test)\n",
    "y_val = copy.deepcopy(y_test)\n",
    "\n",
    "print(\"--- %s seconds ---\"%(time.time()-start_time))"
   ]
  },
  {
   "cell_type": "code",
   "execution_count": 7,
   "id": "db4b33fa-a600-4e4b-99fb-f8d59cb17ad9",
   "metadata": {},
   "outputs": [
    {
     "name": "stdout",
     "output_type": "stream",
     "text": [
      "torch.Size([1405, 47]) torch.Size([100, 47]) torch.Size([100, 47])\n",
      "torch.Size([1405, 2]) torch.Size([100, 2]) torch.Size([100, 2])\n"
     ]
    }
   ],
   "source": [
    "x_train = torch.tensor(x_train).type(torch.float)\n",
    "y_train = torch.tensor(y_train).type(torch.float )\n",
    "x_val = torch.tensor(x_val).type(torch.float)\n",
    "y_val = torch.tensor(y_val).type(torch.float )\n",
    "x_test = torch.tensor(x_test).type(torch.float)\n",
    "y_test = torch.tensor(y_test).type(torch.float )\n",
    "\n",
    "y_train = y_train.view(-1, 2)\n",
    "y_val = y_val.view(-1, 2)\n",
    "y_test = y_test.view(-1, 2)\n",
    "\n",
    "print(x_train.shape, x_val.shape, x_test.shape)\n",
    "print(y_train.shape, y_val.shape, y_test.shape)"
   ]
  },
  {
   "cell_type": "code",
   "execution_count": 8,
   "id": "1b16c69c-d854-4efa-8733-f80bcdf62385",
   "metadata": {},
   "outputs": [
    {
     "name": "stdout",
     "output_type": "stream",
     "text": [
      "torch.Size([47]) torch.Size([2])\n"
     ]
    }
   ],
   "source": [
    "val_ds = TensorDataset(x_val, y_val)\n",
    "val_loader = DataLoader(val_ds, batch_size=batch_size, shuffle=False, num_workers=4)\n",
    "print(val_ds[0][0].shape, val_ds[0][1].shape)"
   ]
  },
  {
   "cell_type": "code",
   "execution_count": 9,
   "id": "f1dfaaa1-1859-4403-98aa-6a35203a8518",
   "metadata": {},
   "outputs": [],
   "source": [
    "class DefectInspector0(torch.nn.Module):\n",
    "    def __init__(self,                            \n",
    "                 in_size: int = 47,\n",
    "                 out_size: int = 2,                                 \n",
    "                 dropout: float = 0.1\n",
    "                ):\n",
    "        super(DefectInspector0, self).__init__()\n",
    "\n",
    "        layer_size = 512\n",
    "        self.name = 'DefectInspector0'        \n",
    "        self.out_size = out_size\n",
    "        \n",
    "        self.linear1 = torch.nn.Linear(in_size, layer_size)\n",
    "        self.bn1 = torch.nn.BatchNorm1d(layer_size)\n",
    "        self.relu1 = torch.nn.ReLU(inplace=False)\n",
    "        self.dropout1 = torch.nn.Dropout(dropout)\n",
    "        \n",
    "        self.linear2 = torch.nn.Linear(layer_size, layer_size)\n",
    "        self.bn2 = torch.nn.BatchNorm1d(layer_size)\n",
    "        self.relu2 = torch.nn.ReLU(inplace=False)\n",
    "        self.dropout2 = torch.nn.Dropout(dropout)\n",
    "        \n",
    "        self.linear3 = torch.nn.Linear(layer_size, layer_size)\n",
    "        self.bn3 = torch.nn.BatchNorm1d(layer_size)\n",
    "        self.relu3 = torch.nn.ReLU(inplace=False)\n",
    "        self.dropout3 = torch.nn.Dropout(dropout)\n",
    "        \n",
    "        self.linear4 = torch.nn.Linear(layer_size, layer_size)\n",
    "        self.bn4 = torch.nn.BatchNorm1d(layer_size)\n",
    "        self.relu4 = torch.nn.ReLU(inplace=False)\n",
    "        self.dropout4 = torch.nn.Dropout(dropout)\n",
    "        \n",
    "        self.linear5 = torch.nn.Linear(layer_size, layer_size)\n",
    "        self.bn5 = torch.nn.BatchNorm1d(layer_size)\n",
    "        self.relu5 = torch.nn.ReLU(inplace=False)\n",
    "        self.dropout5 = torch.nn.Dropout(dropout)\n",
    "        \n",
    "        self.linear6 = torch.nn.Linear(layer_size, layer_size)\n",
    "        self.bn6 = torch.nn.BatchNorm1d(layer_size)\n",
    "        self.relu6 = torch.nn.ReLU(inplace=False)\n",
    "        self.dropout6 = torch.nn.Dropout(dropout)\n",
    "        \n",
    "        self.final_linear = torch.nn.Linear(layer_size, out_size, bias=True)  \n",
    "\n",
    "    def forward(self, src: torch.Tensor): # src : (B, S, F)   \n",
    "        \n",
    "        out = self.linear1(src)       # (B, S, emb_size)      \n",
    "        out = self.bn1(out)\n",
    "        out = F.relu(out)\n",
    "        \n",
    "        out = self.linear2(out)       # (B, S, emb_size)      \n",
    "        out = self.bn2(out)\n",
    "        out = F.relu(out)\n",
    "        \n",
    "        out = self.linear3(out)       # (B, S, emb_size)      \n",
    "        out = self.bn3(out)\n",
    "        out = F.relu(out)\n",
    "        \n",
    "        out = self.linear4(out)       # (B, S, emb_size)      \n",
    "        out = self.bn4(out)\n",
    "        out = F.relu(out)\n",
    "        \n",
    "        out = self.linear5(out)       # (B, S, emb_size)      \n",
    "        out = self.bn5(out)\n",
    "        out = F.relu(out)\n",
    "        \n",
    "        out = self.linear6(out)       # (B, S, emb_size)      \n",
    "        out = self.bn6(out)\n",
    "        out = F.relu(out)\n",
    "        \n",
    "        return self.final_linear(out)       # (B, S, emb_size)      "
   ]
  },
  {
   "cell_type": "code",
   "execution_count": 10,
   "id": "40be2f48-fcce-4bcb-b15c-7701668a4d5e",
   "metadata": {},
   "outputs": [
    {
     "name": "stdout",
     "output_type": "stream",
     "text": [
      "There are no models.\n",
      "--------------------------------------------------\n"
     ]
    }
   ],
   "source": [
    "model = DefectInspector0(in_size=x_val.shape[1],\n",
    "                         out_size=y_val.shape[1])\n",
    "\n",
    "checkpoint = None\n",
    "\n",
    "load_model = True\n",
    "if load_model:\n",
    "    try:\n",
    "        #model = torch.load(os.path.join(model_save_dir, 'saved_model-10.pk'))\n",
    "        checkpoint = torch.load(existing_model_path) \n",
    "        model.load_state_dict(checkpoint['model_state_dict'])\n",
    "        print(\"The model has been loaded.\")\n",
    "         \n",
    "    except:\n",
    "        print(\"There are no models.\")\n",
    "        load_model = False\n",
    "\n",
    "\n",
    "\n",
    "if torch.cuda.device_count() > 1:\n",
    "    model = nn.DataParallel(model, device_ids=[0,1])\n",
    "model.to(device)\n",
    "\n",
    "print(\"-\"*50)        "
   ]
  },
  {
   "cell_type": "code",
   "execution_count": 11,
   "id": "27f41997-c6c2-46c0-bdc9-82ce717997a4",
   "metadata": {},
   "outputs": [
    {
     "name": "stdout",
     "output_type": "stream",
     "text": [
      "100 0.0007781103656844778\n",
      "200 0.002277281500555009\n",
      "300 1.3288651294691734e-06\n"
     ]
    },
    {
     "name": "stderr",
     "output_type": "stream",
     "text": [
      "/opt/conda/lib/python3.7/site-packages/torch/optim/lr_scheduler.py:1247: UserWarning: To get the last learning rate computed by the scheduler, please use `get_last_lr()`.\n",
      "  \"please use `get_last_lr()`.\", UserWarning)\n"
     ]
    },
    {
     "data": {
      "image/png": "[encoded data removed]",
      "text/plain": [
       "<Figure size 432x288 with 1 Axes>"
      ]
     },
     "metadata": {
      "needs_background": "light"
     },
     "output_type": "display_data"
    }
   ],
   "source": [
    "import transformers\n",
    "\n",
    "#optimizer = torch.optim.Adam(filter(lambda p: p.requires_grad, model.parameters()), lr=0.0001, betas=(0.9, 0.98), eps=1e-09)\n",
    "#optimizer = torch.optim.SGD(model.parameters(), lr=0.0001, momentum=0.9)                    \n",
    "# scheduler = torch.optim.lr_scheduler.CosineAnnealingLR(optimizer, T_max=10, eta_min=0.000001, last_epoch=-1, verbose=False)\n",
    "optimizer = torch.optim.AdamW(model.parameters(), lr=0.003)\n",
    "scheduler = torch.optim.lr_scheduler.CosineAnnealingWarmRestarts(optimizer, T_0=int(epochs/2), T_mult=1, eta_min=0.000001, last_epoch=-1, verbose=False)\n",
    "# scheduler = CosineAnnealingWarmUpRestarts(optimizer, T_0=400, T_mult=1, eta_max=0.0001, T_up=50, gamma=1.0)\n",
    "# optimizer = transformers.AdamW(model.parameters(), lr=0.005)\n",
    "# scheduler = transformers.get_cosine_with_hard_restarts_schedule_with_warmup(optimizer, num_warmup_steps=0, num_training_steps=epochs, num_cycles=1, last_epoch=-1)\n",
    "\n",
    "epoch_li = []\n",
    "lr_li = []\n",
    "last_epoch = 10\n",
    "for epoch in range(1, last_epoch+1):\n",
    "    lr = scheduler.get_lr()[0]    \n",
    "    epoch_li.append(epoch)\n",
    "    lr_li.append(lr)\n",
    "    scheduler.step(epoch)        \n",
    "#     print(epoch, lr)\n",
    "for epoch in range(last_epoch+1, epochs+1):\n",
    "    \n",
    "    lr = scheduler.get_lr()[0]        \n",
    "    epoch_li.append(epoch)\n",
    "    lr_li.append(lr)\n",
    "\n",
    "    scheduler.step(epoch)        \n",
    "    if epoch%100==0 :\n",
    "        print(epoch, lr)\n",
    "\n",
    "# plt.title(\"Learning rate\", fontsize=18) \n",
    "plt.plot( epoch_li, lr_li, label='Learning rate')\n",
    "plt.xlabel( \"Epoch\", fontsize=14)\n",
    "plt.ylabel( \"Learning rate\", fontsize=14)\n",
    "plt.legend(fontsize=14)\n",
    "plt.tight_layout()\n",
    "plt.savefig( os.path.join(model_save_dir, 'learning-rate.jpg') , dpi=199) \n",
    "plt.show()"
   ]
  },
  {
   "cell_type": "code",
   "execution_count": 12,
   "id": "514b08d1-babe-4073-ae95-02d250b0fb6f",
   "metadata": {},
   "outputs": [],
   "source": [
    "def evaluate(model, data_loader): \n",
    "    accuracy_sum = 0\n",
    "    loss_sum = 0    \n",
    "    criterion = nn.BCELoss()# nn.CrossEntropyLoss() #nn.MSELoss()\n",
    "    nIter = 0    \n",
    "    with torch.no_grad(): \n",
    "        model.eval()   \n",
    "        for i, data in enumerate(data_loader):\n",
    "            output = model(data[0].to(device))\n",
    "            probs = F.softmax(output, dim=1)            \n",
    "            out_max, out_indices = torch.max(probs, dim=1)            \n",
    "            target_max, target_indices = torch.max(data[1].to(device), dim=1)\n",
    "            accuracy = (out_indices==target_indices).sum()/data[0].size(0)\n",
    "            accuracy_sum += accuracy            \n",
    "            loss = criterion(F.softmax(output, dim=1), data[1].to(device))\n",
    "            loss_sum += loss   \n",
    "            nIter+=1            \n",
    "    model.train()\n",
    "    return loss_sum.item()/nIter, accuracy_sum.item()/nIter"
   ]
  },
  {
   "cell_type": "code",
   "execution_count": 13,
   "id": "b6cb5440-c148-4014-a3c0-9024bb493624",
   "metadata": {},
   "outputs": [],
   "source": [
    "def train(train_loader, val_loader, optimizer, scheduler ):\n",
    "    print(\"Learning start...\")\n",
    "    train_start = time.time()\n",
    "        \n",
    "    criterion = nn.BCELoss()#nn.CrossEntropyLoss()#nn.MSELoss()\n",
    "        \n",
    "    epoch_start = 1    \n",
    "    train_loss_li = []\n",
    "    val_loss_li = []    \n",
    "    train_acc_li = []\n",
    "    val_acc_li = []    \n",
    "    time_taken = 0.0    \n",
    "    best_train_accs = np.zeros(10)\n",
    "    best_val_accs = np.zeros(10)\n",
    "            \n",
    "    if load_model:\n",
    "        #optimizer.load_state_dict(checkpoint['optimizer_state_dict'])\n",
    "        epoch_start = checkpoint['epoch']+1             \n",
    "        train_loss_li = checkpoint['train_loss_li']\n",
    "        val_loss_li = checkpoint['val_loss_li']\n",
    "        train_acc_li = checkpoint['train_acc_li']\n",
    "        val_acc_li = checkpoint['val_acc_li']\n",
    "        best_train_accs = np.sort(np.array(train_acc_li))[::-1][:10]\n",
    "        best_val_accs = np.sort(np.array(val_acc_li))[::-1][:10]\n",
    "        time_taken = checkpoint['time']\n",
    "        print('start epoch : %d'%(epoch_start))\n",
    "        print('best train loss : %f'%(best_train_accs.min()))\n",
    "        print('best val loss : %f'%(best_val_accs.min()))\n",
    "        print(\"=\"*50)\n",
    "    \n",
    "    for epoch in range(1, epoch_start):\n",
    "        lr = scheduler.get_lr()[0]            \n",
    "        scheduler.step(epoch)   \n",
    "\n",
    "    patience_iter = 0\n",
    "    #sigmoid = nn.Sigmoid()\n",
    "    for epoch in range(epoch_start, epochs+1):\n",
    "        epoch_start = time.time()\n",
    "        print(\"Epoch %d start.-------------------------------------------\"%(epoch))\n",
    "        \n",
    "        #best_model_weights = copy.deepcopy(model.state_dict())\n",
    "        #best_accuracy = 0.0        \n",
    "        \n",
    "        nIter = 0\n",
    "        train_loss = 0\n",
    "        train_acc = 0\n",
    "        model.train()         \n",
    "        \n",
    "        for i, (inputs, targets) in enumerate(tqdm(train_loader)):\n",
    "            # print(inputs.size())\n",
    "            # print(targets.type())\n",
    "\n",
    "            optimizer.zero_grad()                        \n",
    "            output = model(inputs.to(device))   \n",
    "            loss = criterion(F.softmax(output, dim=1), targets.to(device))\n",
    "            \n",
    "            probs = F.softmax(output, dim=1)\n",
    "            out_max, out_indices = torch.max(probs, dim=1)            \n",
    "            target_max, target_indices = torch.max(targets.to(device), dim=1)\n",
    "            accuracy = (out_indices==target_indices).sum()/inputs.size(0)\n",
    "            \n",
    "            loss.backward()\n",
    "            #torch.nn.utils.clip_grad_norm_(model.parameters(), 0.5)\n",
    "            optimizer.step()        \n",
    "            train_loss += loss\n",
    "            train_acc += accuracy\n",
    "            nIter+=1\n",
    "\n",
    "        train_loss = train_loss.item()/nIter        \n",
    "        train_acc = train_acc.item()/nIter\n",
    "        val_loss, val_acc = evaluate(model, val_loader)        \n",
    "                \n",
    "        train_loss_li.append(train_loss)            \n",
    "        val_loss_li.append(val_loss)\n",
    "        train_acc_li.append(train_acc)            \n",
    "        val_acc_li.append(val_acc)\n",
    "        \n",
    "#         train_best1 = best_train_losses.min()\n",
    "#         train_best10 = best_train_losses.max()\n",
    "        val_best1 = best_val_accs.max()\n",
    "        val_best10 = best_val_accs.min()\n",
    "        print(val_best1, val_best10)\n",
    "        \n",
    "#         if ( epoch % print_every==0  ) :    \n",
    "        if val_acc>=val_best10 or (epoch==epochs) or (epoch%10==0): \n",
    "            model_to_be_saved = model\n",
    "            if torch.cuda.device_count() > 1:     \n",
    "                model_to_be_saved = model.module  \n",
    "\n",
    "            save_param_path = os.path.join(model_save_dir, \"params-\" + str(epoch) + '.pk')                  \n",
    "            torch.save({\n",
    "                    'epoch': epoch,\n",
    "                    'model_state_dict': model_to_be_saved.state_dict(),\n",
    "                    'optimizer_state_dict': optimizer.state_dict(),                        \n",
    "                    'train_loss_li': train_loss_li, \n",
    "                    'val_loss_li' : val_loss_li,\n",
    "                    'train_acc_li': train_acc_li, \n",
    "                    'val_acc_li' : val_acc_li,\n",
    "                    'time' : (time_taken + time.time() - train_start)\n",
    "                    }, save_param_path)\n",
    "            #save_model_path = os.path.join(model_save_dir, \"model-\" + str(epoch) + '.pk')  \n",
    "            #torch.save(model_to_be_saved, save_model_path)                                          \n",
    "            \n",
    "            if (val_acc >= val_best10) :\n",
    "                best_val_accs[np.argmin(best_val_accs)] = val_acc\n",
    "\n",
    "            if (val_acc >= val_best1) :\n",
    "                patience_iter=0\n",
    "                print( \"The best val loss improved from %f to %f\"%(val_best1, val_acc))\n",
    "            else:\n",
    "                patience_iter+=1\n",
    "\n",
    "        else:\n",
    "            patience_iter+=1\n",
    "            print(\"val_loss did not improve from %f\"%(best_val_accs.max()))\n",
    "        \n",
    "        if patience_iter>=patience:\n",
    "            break\n",
    "        \n",
    "        print(\"=> mse : %f | val_loss : %f | train_acc : %.2f | val_acc : %.2f | lr : %e -  %fs\"%( train_loss, val_loss, train_acc, val_acc, scheduler.get_lr()[0], (time.time() - epoch_start)))\n",
    "        print(\"=> Time spent : %fs\"%( time_taken + time.time() - train_start ) )\n",
    "        print(\"-\"*50)\n",
    "        \n",
    "        # Update learning rate\n",
    "        scheduler.step(epoch)\n",
    "        \n",
    "        if (epoch % 10==0):\n",
    "            display.clear_output(wait=True)"
   ]
  },
  {
   "cell_type": "code",
   "execution_count": 14,
   "id": "f2f9245a-ac1e-4fe5-948f-1497c84f59c5",
   "metadata": {},
   "outputs": [
    {
     "name": "stdout",
     "output_type": "stream",
     "text": [
      "torch.Size([47]) torch.Size([2])\n"
     ]
    }
   ],
   "source": [
    "train_ds = TensorDataset(x_train, y_train)\n",
    "train_loader = DataLoader(train_ds, batch_size=batch_size, shuffle=True, num_workers=4)\n",
    "print(train_ds[0][0].shape, train_ds[0][1].shape)"
   ]
  },
  {
   "cell_type": "code",
   "execution_count": 15,
   "id": "ea183613-ccc0-42b7-a8a8-fdf2b03b3444",
   "metadata": {},
   "outputs": [
    {
     "name": "stdout",
     "output_type": "stream",
     "text": [
      "--- 480.52864837646484 seconds ---\n",
      "Training complete\n"
     ]
    }
   ],
   "source": [
    "start_time = time.time()\n",
    "train(train_loader, val_loader, optimizer, scheduler)\n",
    "print(\"--- %s seconds ---\"%(time.time()-start_time))\n",
    "print(\"Training complete\")"
   ]
  },
  {
   "cell_type": "code",
   "execution_count": null,
   "id": "ab4a5b44-f03d-4f10-ac1b-b5eab161bb36",
   "metadata": {},
   "outputs": [],
   "source": []
  },
  {
   "cell_type": "code",
   "execution_count": null,
   "id": "cd23f430-2219-48b8-a37b-cd98c7ab2539",
   "metadata": {},
   "outputs": [],
   "source": []
  },
  {
   "cell_type": "code",
   "execution_count": null,
   "id": "3b392b0c-1bee-48c9-b959-6def9e16eee8",
   "metadata": {},
   "outputs": [],
   "source": []
  }
 ],
 "metadata": {
  "kernelspec": {
   "display_name": "Python 3 (ipykernel)",
   "language": "python",
   "name": "python3"
  },
  "language_info": {
   "codemirror_mode": {
    "name": "ipython",
    "version": 3
   },
   "file_extension": ".py",
   "mimetype": "text/x-python",
   "name": "python",
   "nbconvert_exporter": "python",
   "pygments_lexer": "ipython3",
   "version": "3.7.11"
  }
 },
 "nbformat": 4,
 "nbformat_minor": 5
}
