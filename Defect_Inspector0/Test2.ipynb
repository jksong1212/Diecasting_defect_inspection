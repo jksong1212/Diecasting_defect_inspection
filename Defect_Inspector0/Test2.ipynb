{
 "cells": [
  {
   "cell_type": "markdown",
   "id": "informative-mainland",
   "metadata": {},
   "source": [
    "# Conductance estimation of Ohara 2017 by EfficientNet"
   ]
  },
  {
   "cell_type": "code",
   "execution_count": 1,
   "id": "distinct-kernel",
   "metadata": {},
   "outputs": [
    {
     "name": "stdout",
     "output_type": "stream",
     "text": [
      "1.10.2+cu113\n"
     ]
    }
   ],
   "source": [
    "import os, sys, copy, time\n",
    "import math\n",
    "import random\n",
    "import numpy as np\n",
    "import matplotlib.pyplot as plt\n",
    "from datetime import datetime\n",
    "import pandas as pd\n",
    "import seaborn as sns\n",
    "import multiprocessing\n",
    "from functools import partial\n",
    "import cv2\n",
    "import skimage.io\n",
    "import torch\n",
    "import torch.nn as nn\n",
    "import torch.nn.functional as F\n",
    "import torch.nn.parallel\n",
    "import torch.backends.cudnn as cudnn\n",
    "import torch.optim as optim\n",
    "import torch.utils.data\n",
    "from torchvision import datasets, models, transforms\n",
    "import torchvision.utils as vutils\n",
    "import torchaudio.transforms as AT\n",
    "from torch.utils.data import  Dataset, TensorDataset, DataLoader\n",
    "from efficientnet_pytorch import EfficientNet\n",
    "from typing import Type, Any, Callable, Union, List, Optional\n",
    "from IPython.display import HTML\n",
    "from IPython import display\n",
    "import librosa.display\n",
    "from tqdm import tqdm\n",
    "from sklearn.model_selection import train_test_split\n",
    "\n",
    "random.seed(3)\n",
    "np.random.seed(3)\n",
    "torch.manual_seed(3)\n",
    "\n",
    "print(torch.__version__)"
   ]
  },
  {
   "cell_type": "code",
   "execution_count": 2,
   "id": "featured-seafood",
   "metadata": {},
   "outputs": [
    {
     "name": "stdout",
     "output_type": "stream",
     "text": [
      "Multi GPU activate\n"
     ]
    },
    {
     "data": {
      "text/plain": [
       "device(type='cuda')"
      ]
     },
     "execution_count": 2,
     "metadata": {},
     "output_type": "execute_result"
    }
   ],
   "source": [
    "device = torch.device(\"cuda\" if torch.cuda.is_available() else 'cpu')\n",
    "if (device.type == 'cuda') and (torch.cuda.device_count() >1):\n",
    "    print(\"Multi GPU activate\")\n",
    "# device = torch.device('cpu')\n",
    "device"
   ]
  },
  {
   "cell_type": "code",
   "execution_count": 3,
   "id": "8b470491-0939-4989-bc53-ef5387383933",
   "metadata": {},
   "outputs": [],
   "source": [
    "def minmax_normalization(x, min=1.0, max=100.0):\n",
    "    return (x - min) / (max - min)\n",
    "\n",
    "def inv_minmax_normalization(x_std, min=1, max=100):\n",
    "    return x_std * (max - min) + min "
   ]
  },
  {
   "cell_type": "code",
   "execution_count": 4,
   "id": "hawaiian-blind",
   "metadata": {},
   "outputs": [],
   "source": [
    "batch_size = 64\n",
    "epochs = 100\n",
    "print_every = 1\n",
    "window = 20\n",
    "step_size = 10\n",
    "window_type = 'avg'\n",
    "emb_size = 512\n",
    "d_model = 512\n",
    "max_len = 2000\n",
    "patience = 1000\n",
    "\n",
    "dataset_list = [\"Dataset1\", \"Dataset2\" ]\n",
    "models_dir = \"Trained_models\"\n",
    "model_file_path = os.path.join(models_dir, f'params-100.pk')"
   ]
  },
  {
   "cell_type": "code",
   "execution_count": 5,
   "id": "343ef92e-2cec-45e2-97d7-202c7357b3ba",
   "metadata": {},
   "outputs": [],
   "source": [
    "output_dir1 = f'./{models_dir}/Results1_sim'        \n",
    "if not os.path.exists(output_dir1):\n",
    "    os.makedirs(output_dir1)\n",
    "    print('\"%s\" has been created.'%(output_dir1))\n",
    "output_dir2 = f'./{models_dir}/Results2_sim'        \n",
    "if not os.path.exists(output_dir2):\n",
    "    os.makedirs(output_dir2)\n",
    "    print('\"%s\" has been created.'%(output_dir2))\n"
   ]
  },
  {
   "cell_type": "code",
   "execution_count": 6,
   "id": "84128f2b-1927-4e2f-afaa-00125b575f38",
   "metadata": {},
   "outputs": [
    {
     "name": "stdout",
     "output_type": "stream",
     "text": [
      "(1435, 47) (1435, 2) (70, 47) (70, 2)\n"
     ]
    }
   ],
   "source": [
    "x_data_OK = []\n",
    "y_data_OK = []\n",
    "x_data_NG = []\n",
    "y_data_NG = []\n",
    "for ds in dataset_list:\n",
    "    ds_path = os.path.join(\"../Dataset\", ds)    \n",
    "    x_data_OK.append( np.load(os.path.join(ds_path, 'x_data_OK.npy')) )\n",
    "    y_data_OK.append( np.load(os.path.join(ds_path, 'y_data_OK.npy')) )\n",
    "    x_data_NG.append( np.load(os.path.join(ds_path, 'x_data_NG.npy')) )\n",
    "    y_data_NG.append( np.load(os.path.join(ds_path, 'y_data_NG.npy')) )\n",
    "\n",
    "x_data_OK = np.concatenate(x_data_OK, axis=0)\n",
    "y_data_OK = np.concatenate(y_data_OK, axis=0)\n",
    "x_data_NG = np.concatenate(x_data_NG, axis=0)\n",
    "y_data_NG = np.concatenate(y_data_NG, axis=0)\n",
    "\n",
    "print(x_data_OK.shape, y_data_OK.shape, x_data_NG.shape, y_data_NG.shape)"
   ]
  },
  {
   "cell_type": "code",
   "execution_count": 7,
   "id": "3a663526-3bed-4dd4-901b-d1232e0bab4c",
   "metadata": {},
   "outputs": [
    {
     "name": "stdout",
     "output_type": "stream",
     "text": [
      "(863, 47) (286, 47) (286, 47)\n",
      "(42, 47) (14, 47) (14, 47)\n",
      "(905, 47) (300, 47) (300, 47)\n",
      "(863, 2) (286, 2) (286, 2)\n",
      "(42, 2) (14, 2) (14, 2)\n",
      "(905, 2) (300, 2) (300, 2)\n",
      "--- 0.009320497512817383 seconds ---\n"
     ]
    }
   ],
   "source": [
    "start_time = time.time()\n",
    "\n",
    "x_train_OK, x_val_test_OK, y_train_OK, y_val_test_OK = train_test_split(x_data_OK, y_data_OK, test_size=0.398, shuffle=False)\n",
    "x_train_NG, x_val_test_NG, y_train_NG, y_val_test_NG = train_test_split(x_data_NG, y_data_NG, test_size=0.4, shuffle=False)\n",
    "x_val_OK, x_test_OK, y_val_OK, y_test_OK = train_test_split(x_val_test_OK, y_val_test_OK, test_size=0.5, shuffle=False)\n",
    "x_val_NG, x_test_NG, y_val_NG, y_test_NG = train_test_split(x_val_test_NG, y_val_test_NG, test_size=0.5, shuffle=False)\n",
    "\n",
    "x_train = np.concatenate([x_train_OK, x_train_NG], axis=0)\n",
    "y_train = np.concatenate([y_train_OK, y_train_NG], axis=0)\n",
    "x_val = np.concatenate([x_val_OK, x_val_NG], axis=0)\n",
    "y_val = np.concatenate([y_val_OK, y_val_NG], axis=0)\n",
    "x_test = np.concatenate([x_test_OK, x_test_NG], axis=0)\n",
    "y_test = np.concatenate([y_test_OK, y_test_NG], axis=0)\n",
    "\n",
    "print(x_train_OK.shape, x_val_OK.shape, x_test_OK.shape)\n",
    "print(x_train_NG.shape, x_val_NG.shape, x_test_NG.shape)\n",
    "print(x_train.shape, x_val.shape, x_test.shape)\n",
    "\n",
    "print(y_train_OK.shape, y_val_OK.shape, y_test_OK.shape)\n",
    "print(y_train_NG.shape, y_val_NG.shape, y_test_NG.shape)\n",
    "print(y_train.shape, y_val.shape, y_test.shape)\n",
    "\n",
    "print(\"--- %s seconds ---\"%(time.time()-start_time))"
   ]
  },
  {
   "cell_type": "code",
   "execution_count": 8,
   "id": "b9826b81-9d83-4f46-ae74-6f19bc03773a",
   "metadata": {},
   "outputs": [
    {
     "name": "stdout",
     "output_type": "stream",
     "text": [
      "torch.Size([905, 47]) torch.Size([300, 47]) torch.Size([300, 47])\n",
      "torch.Size([905, 2]) torch.Size([300, 2]) torch.Size([300, 2])\n"
     ]
    }
   ],
   "source": [
    "x_train = torch.tensor(x_train).type(torch.float)\n",
    "y_train = torch.tensor(y_train).type(torch.float )\n",
    "x_val = torch.tensor(x_val).type(torch.float)\n",
    "y_val = torch.tensor(y_val).type(torch.float )\n",
    "x_test = torch.tensor(x_test).type(torch.float)\n",
    "y_test = torch.tensor(y_test).type(torch.float )\n",
    "\n",
    "y_train = y_train.view(-1, 2)\n",
    "y_val = y_val.view(-1, 2)\n",
    "y_test = y_test.view(-1, 2)\n",
    "\n",
    "print(x_train.shape, x_val.shape, x_test.shape)\n",
    "print(y_train.shape, y_val.shape, y_test.shape)"
   ]
  },
  {
   "cell_type": "code",
   "execution_count": 9,
   "id": "87dd9e69-7e31-43e2-ba88-d61f476e0606",
   "metadata": {},
   "outputs": [],
   "source": [
    "class DefectInspector0(torch.nn.Module):\n",
    "    def __init__(self,                            \n",
    "                 in_size: int = 47,\n",
    "                 out_size: int = 2,                                 \n",
    "                 dropout: float = 0.1\n",
    "                ):\n",
    "        super(DefectInspector0, self).__init__()\n",
    "\n",
    "        self.name = 'DefectInspector0'        \n",
    "        self.out_size = out_size\n",
    "        \n",
    "        self.linear1 = torch.nn.Linear(in_size, 200)\n",
    "        self.bn1 = torch.nn.BatchNorm1d(200)\n",
    "        self.relu1 = torch.nn.ReLU(inplace=False)\n",
    "        self.dropout1 = torch.nn.Dropout(dropout)\n",
    "        \n",
    "        self.linear2 = torch.nn.Linear(200, 200)\n",
    "        self.bn2 = torch.nn.BatchNorm1d(200)\n",
    "        self.relu2 = torch.nn.ReLU(inplace=False)\n",
    "        self.dropout1 = torch.nn.Dropout(dropout)\n",
    "        \n",
    "        self.linear3 = torch.nn.Linear(200, 200)\n",
    "        self.bn3 = torch.nn.BatchNorm1d(200)\n",
    "        self.relu3 = torch.nn.ReLU(inplace=False)\n",
    "        self.dropout1 = torch.nn.Dropout(dropout)\n",
    "        \n",
    "        self.final_linear = torch.nn.Linear(200, out_size, bias=True)  \n",
    "\n",
    "    def forward(self, src: torch.Tensor): # src : (B, S, F)   \n",
    "        \n",
    "        out = self.linear1(src)       # (B, S, emb_size)      \n",
    "        out = self.bn1(out)\n",
    "        out = F.relu(out)\n",
    "        \n",
    "        out = self.linear2(out)       # (B, S, emb_size)      \n",
    "        out = self.bn2(out)\n",
    "        out = F.relu(out)\n",
    "        \n",
    "        out = self.linear3(out)       # (B, S, emb_size)      \n",
    "        out = self.bn3(out)\n",
    "        out = F.relu(out)\n",
    "        \n",
    "        return self.final_linear(out)       # (B, S, emb_size)      "
   ]
  },
  {
   "cell_type": "code",
   "execution_count": 10,
   "id": "2c1e8467-8f93-496a-b2a1-f3f0e1bdcf55",
   "metadata": {},
   "outputs": [],
   "source": [
    "# # val_ds = TensorDataset(x_val, y_val)\n",
    "# test_ds = CustomDataset(x_test, y_test)\n",
    "# test_loader = DataLoader(test_ds, batch_size=BATCH_SIZE, shuffle=False, num_workers=4) \n",
    "# print(test_ds[0][0].shape, test_ds[0][1].shape)"
   ]
  },
  {
   "cell_type": "code",
   "execution_count": 11,
   "id": "0ab88170-e532-4d04-af0b-d033b3017b12",
   "metadata": {},
   "outputs": [
    {
     "name": "stdout",
     "output_type": "stream",
     "text": [
      "torch.Size([47]) torch.Size([2])\n"
     ]
    }
   ],
   "source": [
    "from torch.utils.data import  TensorDataset, DataLoader\n",
    "test_ds = TensorDataset(x_test, y_test)\n",
    "test_loader = DataLoader(test_ds, batch_size=batch_size, shuffle=False, num_workers=0)\n",
    "print(test_ds[0][0].shape, test_ds[0][1].shape)"
   ]
  },
  {
   "cell_type": "code",
   "execution_count": 12,
   "id": "981ad217-f0b5-487f-80a6-d9f0242f2170",
   "metadata": {},
   "outputs": [],
   "source": [
    "model = DefectInspector0(in_size=x_test.shape[1],\n",
    "                         out_size=y_test.shape[1])"
   ]
  },
  {
   "cell_type": "code",
   "execution_count": 13,
   "id": "17d941f3-8411-4f88-b09f-7e1f8b66c00b",
   "metadata": {},
   "outputs": [
    {
     "name": "stdout",
     "output_type": "stream",
     "text": [
      "Training time : 91.72990036010742s (0.025480527877807618h)\n"
     ]
    }
   ],
   "source": [
    "checkpoint = torch.load(model_file_path) \n",
    "model.load_state_dict(checkpoint['model_state_dict'])\n",
    "\n",
    "if torch.cuda.device_count() > 1:\n",
    "    model = nn.DataParallel(model, device_ids=[0,1])\n",
    "model.to(device)\n",
    "\n",
    "print(f\"Training time : {checkpoint['time']}s ({checkpoint['time']/60/60}h)\")"
   ]
  },
  {
   "cell_type": "code",
   "execution_count": 14,
   "id": "51bacad9-9ebe-44df-a95b-311d0fea7549",
   "metadata": {},
   "outputs": [
    {
     "name": "stdout",
     "output_type": "stream",
     "text": [
      "Best MSE for train dataset\n",
      "1 : (98, 0.001186)\n",
      "2 : (99, 0.001199)\n",
      "3 : (96, 0.001398)\n",
      "4 : (97, 0.001421)\n",
      "5 : (100, 0.001429)\n",
      "6 : (95, 0.001445)\n",
      "7 : (94, 0.001603)\n",
      "8 : (92, 0.001676)\n",
      "9 : (90, 0.001815)\n",
      "10 : (91, 0.001818)\n",
      "==================================================\n",
      "Best MSE for validation dataset\n",
      "1 : (19, 0.114620)\n",
      "2 : (18, 0.116024)\n",
      "3 : (20, 0.117149)\n",
      "4 : (17, 0.118664)\n",
      "5 : (16, 0.122716)\n",
      "6 : (51, 0.129964)\n",
      "7 : (43, 0.131778)\n",
      "8 : (54, 0.134069)\n",
      "9 : (37, 0.134590)\n",
      "10 : (46, 0.135812)\n",
      "----------------------------------------------------------------------------------------------------\n",
      "0.7292885184288025 0.0011859675869345665\n",
      "2.486999988555908 0.11462032794952393\n"
     ]
    },
    {
     "data": {
      "image/png": "[encoded data removed]",
      "text/plain": [
       "<Figure size 432x288 with 1 Axes>"
      ]
     },
     "metadata": {
      "needs_background": "light"
     },
     "output_type": "display_data"
    },
    {
     "data": {
      "text/plain": [
       "0.19099317491054535"
      ]
     },
     "execution_count": 14,
     "metadata": {},
     "output_type": "execute_result"
    }
   ],
   "source": [
    "train_loss_arr = np.array(checkpoint['train_loss_li'])\n",
    "train_best_epoch = train_loss_arr.argsort() + 1\n",
    "print(\"Best MSE for train dataset\")\n",
    "for i, epoch in enumerate(train_best_epoch[:10]):\n",
    "    print(\"%d : (%d, %f)\"%(i+1, epoch, train_loss_arr[epoch-1]))\n",
    "\n",
    "print(\"=\"*50)\n",
    "\n",
    "print(\"Best MSE for validation dataset\")\n",
    "val_loss_arr = np.array(checkpoint['val_loss_li'])\n",
    "val_best_epoch = val_loss_arr.argsort() + 1\n",
    "for i, epoch in enumerate(val_best_epoch[:10]):\n",
    "    print(\"%d : (%d, %f)\"%(i+1, epoch, val_loss_arr[epoch-1]))\n",
    "\n",
    "print('-'*100)\n",
    "print(train_loss_arr.max(), train_loss_arr.min())\n",
    "print(val_loss_arr.max(), val_loss_arr.min())\n",
    "# plt.title(\"Loss\", fontsize=18) \n",
    "plt.xlabel( \"Epoch\", fontsize=14)\n",
    "plt.ylabel( \"Loss\", fontsize=14)\n",
    "# plt.ylim(0, 0.05)\n",
    "plt.plot(checkpoint['train_loss_li'], label='train loss')\n",
    "plt.plot(checkpoint['val_loss_li'], label='val loss')\n",
    "plt.legend(fontsize=14)\n",
    "plt.tight_layout()\n",
    "plt.savefig( os.path.join(output_dir1, 'train_val_loss1.jpg'), dpi=199) \n",
    "plt.show()\n",
    "checkpoint['val_loss_li'][-1]"
   ]
  },
  {
   "cell_type": "code",
   "execution_count": 15,
   "id": "81c6874e-a98a-4ae3-970b-1110ab138d78",
   "metadata": {},
   "outputs": [],
   "source": [
    "# for i, loss in enumerate(zip(checkpoint['train_loss_li'], checkpoint['val_loss_li'])):\n",
    "#     print(i+1, loss) "
   ]
  },
  {
   "cell_type": "code",
   "execution_count": 16,
   "id": "5c7b5ba2-0dbe-45cb-9756-7a1ec756125c",
   "metadata": {},
   "outputs": [],
   "source": [
    "def test(model, data_loader): \n",
    "    loss_sum = 0    \n",
    "    criterion = nn.BCELoss()# nn.CrossEntropyLoss() #nn.MSELoss()\n",
    "    nIter = 0\n",
    "    nSuccess = 0\n",
    "    with torch.no_grad(): \n",
    "        model.eval()   \n",
    "        for i, data in enumerate(data_loader):\n",
    "            output = model(data[0].to(device))     \n",
    "            out = F.softmax(output, dim=1)            \n",
    "            out_max, out_indices = torch.max(out.cpu(), dim=1)            \n",
    "            target_max, target_indices = torch.max(data[1], dim=1)\n",
    "#             print((out_indices!=target_indices))\n",
    "#             print((out_indices!=target_indices).sum())\n",
    "            nSuccess += (out_indices==target_indices).sum()\n",
    "            loss = criterion(out, data[1].to(device))\n",
    "            loss_sum += loss   \n",
    "            nIter+=1                \n",
    "    return nSuccess, loss_sum.item()/nIter"
   ]
  },
  {
   "cell_type": "code",
   "execution_count": 17,
   "id": "0d6a8681-c720-4c32-93be-bab746f162f2",
   "metadata": {},
   "outputs": [
    {
     "data": {
      "text/plain": [
       "tensor(289)"
      ]
     },
     "execution_count": 17,
     "metadata": {},
     "output_type": "execute_result"
    }
   ],
   "source": [
    "nSuccess, loss = test(model, test_loader)\n",
    "nSuccess"
   ]
  },
  {
   "cell_type": "code",
   "execution_count": 18,
   "id": "95884d3f-0820-4801-af35-c67e98efd194",
   "metadata": {},
   "outputs": [
    {
     "name": "stdout",
     "output_type": "stream",
     "text": [
      "96.33 %\n"
     ]
    }
   ],
   "source": [
    "print( f\"%.2f %%\"%(nSuccess/x_test.shape[0]*100))"
   ]
  },
  {
   "cell_type": "code",
   "execution_count": null,
   "id": "c535ab61-6699-43bb-a7d8-53f8aa345c0b",
   "metadata": {},
   "outputs": [],
   "source": []
  },
  {
   "cell_type": "code",
   "execution_count": null,
   "id": "c3ce8be4-8829-458d-ba8b-192bd9278edb",
   "metadata": {},
   "outputs": [],
   "source": []
  },
  {
   "cell_type": "code",
   "execution_count": null,
   "id": "a4a0fe45-25bf-4f42-b523-5de28406a36b",
   "metadata": {},
   "outputs": [],
   "source": []
  },
  {
   "cell_type": "code",
   "execution_count": null,
   "id": "437eb7c0-a7bc-4814-9406-037b7e40b0f1",
   "metadata": {},
   "outputs": [],
   "source": []
  },
  {
   "cell_type": "code",
   "execution_count": null,
   "id": "dde68b4b-5c48-4023-8e7a-18eed92a279b",
   "metadata": {},
   "outputs": [],
   "source": [
    "final_model_file = None\n",
    "final_model = None\n",
    "final_loss = float('inf')\n",
    "final_results = None\n",
    "\n",
    "file_li = os.listdir(models_dir)\n",
    "# modelNo_li = list(range(333, 334)) #list(range(11, 366)) val_loss_argsort\n",
    "modelNo_li = val_best_epoch[:5]\n",
    "\n",
    "\n",
    "test_loss_li = []\n",
    "for epoch in modelNo_li:#len(file_li)+1):\n",
    "   \n",
    "    start_time = time.time()\n",
    "    model_file = \"params-%d.pk\"%(epoch)    \n",
    "    checkpoint = torch.load(os.path.join(models_dir, model_file ) )       ## Why is this getting slower?\n",
    "    #checkpoint = torch.load(path, map_location=lambda storage, loc: storage)\n",
    "\n",
    "    model.load_state_dict(checkpoint['model_state_dict'])                    \n",
    "    model.to(device)\n",
    "\n",
    "    loss, results  = test(model, test_loader)    \n",
    "    test_loss_li.append((epoch, loss))\n",
    "    if loss<final_loss:\n",
    "        final_model_file = model_file\n",
    "        final_model = model\n",
    "        final_loss = loss\n",
    "        final_results = results\n",
    "\n",
    "    print(\"Loss for %s : %f\"%(model_file, loss ) )\n",
    "    print(\"--- %s seconds ---\"%(time.time()-start_time))\n",
    "\n",
    "# print(\"--- %s seconds ---\"%(time.time()-start_time))\n",
    "\n",
    "print(\"=\"*50)\n",
    "print(\"Final model : %s\"%(final_model_file))\n",
    "print(\"Loss for test dataset :\", final_loss)"
   ]
  },
  {
   "cell_type": "code",
   "execution_count": null,
   "id": "3f5273d0-a3ff-4cac-982f-f1633d1cde43",
   "metadata": {},
   "outputs": [],
   "source": [
    "test_loss_arr = np.array(test_loss_li)\n",
    "test_loss_sort = test_loss_arr[:, 1].argsort()\n",
    "print(\"MSE for test dataset\")\n",
    "for i, epoch in enumerate(test_loss_sort[:5]):\n",
    "    print(\"%d : (%d, %f)\"%(i+1, test_loss_li[epoch][0], test_loss_li[epoch][1]))\n",
    "\n",
    "test_loss_epoch_sort = test_loss_arr[test_loss_arr[:, 0].argsort()]\n",
    "\n",
    "# aa = np.hstack([val_loss_arr, test_loss_arr])\n",
    "plt.plot(np.arange(1, len(train_loss_arr)+1) , train_loss_arr, label='train_loss')    \n",
    "plt.plot(np.arange(1, len(val_loss_arr)+1) , val_loss_arr, label='val_loss')\n",
    "plt.plot(test_loss_epoch_sort[:, 0] , test_loss_epoch_sort[:, 1], label='test_loss')\n",
    "plt.ylim(0, 0.005)\n",
    "plt.legend()\n",
    "plt.savefig( os.path.join(output_dir1, 'train_val_loss2.jpg'), dpi=199) \n",
    "plt.show()"
   ]
  },
  {
   "cell_type": "code",
   "execution_count": null,
   "id": "d28a7b4a-68a5-4c84-8e36-960715dedad6",
   "metadata": {},
   "outputs": [],
   "source": [
    "y_test.max()"
   ]
  },
  {
   "cell_type": "code",
   "execution_count": null,
   "id": "b82e4453-b100-417b-9045-7e87a307826e",
   "metadata": {},
   "outputs": [],
   "source": [
    "final_results.max()"
   ]
  },
  {
   "cell_type": "code",
   "execution_count": null,
   "id": "eaa78ea0-520b-427f-be95-a602ae71b828",
   "metadata": {},
   "outputs": [],
   "source": [
    "final_results = final_results.numpy()"
   ]
  },
  {
   "cell_type": "code",
   "execution_count": null,
   "id": "a04ba09c-40e0-4d7d-929a-25b3b35ec3e4",
   "metadata": {},
   "outputs": [],
   "source": [
    "targets = y_test.numpy()"
   ]
  },
  {
   "cell_type": "code",
   "execution_count": null,
   "id": "f430365b-1165-408b-95f9-75368461d10f",
   "metadata": {},
   "outputs": [],
   "source": [
    "mse = MSE(targets, final_results, axis=1)\n",
    "bad_index = mse.argmax()\n",
    "bad_mse = mse[mse.argmax()]\n",
    "print(bad_index, bad_mse)"
   ]
  },
  {
   "cell_type": "code",
   "execution_count": null,
   "id": "aa0e58d3-f23c-4ac7-bdd6-b8d70f2f21a0",
   "metadata": {},
   "outputs": [],
   "source": [
    "print( targets[bad_index])"
   ]
  },
  {
   "cell_type": "code",
   "execution_count": null,
   "id": "bea65b1d-24cd-498e-85fe-ba5e033adcca",
   "metadata": {},
   "outputs": [],
   "source": [
    "print( final_results[bad_index])"
   ]
  },
  {
   "cell_type": "code",
   "execution_count": null,
   "id": "9620e2d8-5a96-4dd6-b76e-8463730ba4fa",
   "metadata": {},
   "outputs": [],
   "source": [
    "import matplotlib.cm as cm \n",
    "fig, ax = plt.subplots(3, 3, figsize=(15, 15))\n",
    "\n",
    "# colors = cm.rainbow(np.linspace(0, 1, len(cell_li)))\n",
    "\n",
    "# np.random.seed(2)\n",
    "# colors = np.random.rand(targets.shape[0], 3)\n",
    "\n",
    "# Marker size in units of points^2\n",
    "\n",
    "# close = 0.003 * price_data.close[:-2] / 0.003 * price_data.open[:-2]\n",
    "\n",
    "show_index = bad_index\n",
    "\n",
    "for i in range(3):        \n",
    "    for j in range(3):           \n",
    "        if i==2 and j>0:\n",
    "            continue\n",
    "#             ax[i, j].set_xlim(-range_crit, range_crit)\n",
    "#             ax[i, j].set_ylim(-range_crit, range_crit)  \n",
    "        index = i*3 + j\n",
    "        title = G_adj_li[index]\n",
    "        x = targets[show_index, index]\n",
    "        y = final_results[show_index, index]\n",
    "                \n",
    "        ax[i, j].set_title( \"%s\"%(title), fontsize=18)           \n",
    "        ax[i, j].plot([0, 1], [0, 1], c='r')\n",
    "        # ax[i, j].plot(x, y, c='r')\n",
    "        ax[i, j].scatter(x, y, label=\"\", c='k', s=30)            \n",
    "        ax[i, j].set_xlabel( 'True', fontsize=14)\n",
    "        ax[i, j].set_ylabel( \"Prediction\", fontsize=14)        \n",
    "#         ax[i, j].legend()\n",
    "        ax[i, j].grid(True)  \n",
    "            \n",
    "        # textstr = \"MSE : %f\"%(mse)\n",
    "        # props = dict(boxstyle='round', facecolor='wheat', alpha=0.5)        \n",
    "        # ax[i, j].text(0.1, 0.95, textstr, transform=ax[i, j].transAxes, fontsize=18, verticalalignment='top', bbox=props)    \n",
    "# plt.colorbar(label='color')\n",
    "# fig.suptitle(\"Parameter estimation\")\n",
    "# fig1 = plt.gcf()\n",
    "# plt.tight_layout()\n",
    "plt.subplots_adjust(left=0.07, bottom=0.05, right=0.95, top=0.95, wspace=0.2, hspace=0.2)\n",
    "plt.savefig( os.path.join(output_dir1, 'results1.jpg'), dpi=199) \n",
    "plt.show()"
   ]
  },
  {
   "cell_type": "code",
   "execution_count": null,
   "id": "d2b4b39d-ab4f-4e00-916b-4b35d4ab9b1e",
   "metadata": {},
   "outputs": [],
   "source": [
    "import sklearn \n",
    "import scipy.stats as stats\n",
    "\n",
    "mse_li = []\n",
    "for i in range(final_results.shape[0]):\n",
    "#     print(stats.pearsonr(y_test[i], final_results[i]))\n",
    "#     print(y_test[i, 8], final_results[i, 8])    \n",
    "    mse = MSE(targets[i], final_results[i], axis=0)\n",
    "    mse_li.append(mse)\n",
    "mse_li = np.array(mse_li)\n",
    "    \n",
    "#     pearson = stats.pearsonr(y_test[i], final_results[i])\n",
    "#     pearson1 = stats.pearsonr(real_parameter[i], predicted_parameter[i])\n",
    "# #     pearson2 = np.corrcoef(y_test[i], final_results[i])\n",
    "        \n",
    "#     cos_sim = cosine_similarity(y_test[i], final_results[i])\n",
    "#     cos_sim1 = cosine_similarity(real_parameter[i], predicted_parameter[i])\n",
    "    \n",
    "#     if pearson[0] <= 1:     \n",
    "#         print(\"mse : %f\"%(mse))\n",
    "#         print(\"pearson : %f, p-value : %f\"%(pearson[0], pearson[1]))\n",
    "#         print(\"pearson : %f, p-value : %f\"%(pearson1[0], pearson1[1]))\n",
    "# #         print(pearson2)\n",
    "#         print(\"cos similarity : %f\"%(cos_sim))\n",
    "# #         print(real_parameter[i])\n",
    "# #         print(predicted_parameter[i])\n",
    "#         print(\"cos similarity : %f\"%(cos_sim1))\n",
    "#         print(\"=\"*50)\n",
    "print(mse_li)\n",
    "mse_argsort_reverse = mse_li.argsort()[::-1]"
   ]
  },
  {
   "cell_type": "code",
   "execution_count": null,
   "id": "909e5adc-972d-4728-a331-026de4481e5e",
   "metadata": {},
   "outputs": [],
   "source": [
    "index = 6\n",
    "sum_temp = 0\n",
    "for exact, pred in zip(targets[:, index], final_results[:, index]):\n",
    "    sum_temp = abs(exact-pred)\n",
    "    # if abs(exact-pred)>0.1:\n",
    "    #     print(i, j)\n",
    "sum_temp"
   ]
  },
  {
   "cell_type": "code",
   "execution_count": null,
   "id": "4ce52100-4372-4c0d-a1f0-fe47d869896f",
   "metadata": {},
   "outputs": [],
   "source": [
    "mse_results = MSE(targets[:100], final_results[:100], axis=0)\n",
    "# print(mse_results.shape)\n",
    "# print(\"cos similarity : %f\"%(sklearn.metrics.pairwise.cosine_similarity(real_parameter, predicted_parameter)))\n",
    "for i, p_name in enumerate(G_adj_li):    \n",
    "    print(p_name)\n",
    "    print(\"mse : %f\"%(mse_results[i]))    \n",
    "    # print(\"cos similarity : %f\"%(cosine_similarity(targets[:, i], final_results[:, i])))\n",
    "#     print(\"cos similarity : %f\"%(cosine_similarity(real_parameter[:, i], predicted_parameter[:, i])))    \n",
    "#     print(\"cos similarity : %f\"%(sklearn.metrics.pairwise.cosine_similarity([real_parameter[:, i]], [predicted_parameter[:, i]])))\n",
    "#     print(stats.pearsonr(real_parameter[:, i], predicted_parameter[:, i]))\n",
    "#     print(stats.pearsonr(y_test[:, i], final_results[:, i]))    \n",
    "    print(\"=\"*50)"
   ]
  },
  {
   "cell_type": "code",
   "execution_count": null,
   "id": "b89ced57-f3ee-42d2-b59c-f1b611850e9d",
   "metadata": {},
   "outputs": [],
   "source": [
    "final_results.max()"
   ]
  },
  {
   "cell_type": "code",
   "execution_count": null,
   "id": "0f192c71-77ed-41ab-a60d-0a8bc31a39e6",
   "metadata": {},
   "outputs": [],
   "source": [
    "import matplotlib.cm as cm \n",
    "fig, ax = plt.subplots(3, 3, figsize=(15, 15))\n",
    "\n",
    "# colors = cm.rainbow(np.linspace(0, 1, len(cell_li)))\n",
    "\n",
    "np.random.seed(2)\n",
    "colors = np.random.rand(targets.shape[0], 3)\n",
    "\n",
    "# Marker size in units of points^2\n",
    "\n",
    "# close = 0.003 * price_data.close[:-2] / 0.003 * price_data.open[:-2]\n",
    "\n",
    "for i in range(3):        \n",
    "    for j in range(3):           \n",
    "        if i==2 and j>0:\n",
    "            continue\n",
    "#             ax[i, j].set_xlim(-range_crit, range_crit)\n",
    "#             ax[i, j].set_ylim(-range_crit, range_crit)  \n",
    "        index = i*3 + j\n",
    "        title = G_adj_li[index]\n",
    "        x = targets[:, index]\n",
    "        y = final_results[:, index]\n",
    "        mse = mse_results[index]\n",
    "                \n",
    "        ax[i, j].set_title( \"%s\"%(title), fontsize=18)           \n",
    "        # ax[i, j].plot([0, 1], [0, 1], c='r')\n",
    "        ax[i, j].scatter(x, y, label=\"\", c=colors, s=30)            \n",
    "        ax[i, j].set_xlabel( 'True', fontsize=14)\n",
    "        ax[i, j].set_ylabel( \"Prediction\", fontsize=14)        \n",
    "#         ax[i, j].legend()\n",
    "        ax[i, j].grid(True)  \n",
    "            \n",
    "        textstr = \"MSE : %f\"%(mse)\n",
    "        props = dict(boxstyle='round', facecolor='wheat', alpha=0.5)        \n",
    "        ax[i, j].text(0.1, 0.95, textstr, transform=ax[i, j].transAxes, fontsize=18, verticalalignment='top', bbox=props)    \n",
    "# plt.colorbar(label='color')\n",
    "# fig.suptitle(\"Parameter estimation\")\n",
    "# fig1 = plt.gcf()\n",
    "# plt.tight_layout()\n",
    "plt.subplots_adjust(left=0.07, bottom=0.05, right=0.95, top=0.95, wspace=0.2, hspace=0.2)\n",
    "plt.savefig( os.path.join(output_dir1, 'results1.jpg'), dpi=199) \n",
    "plt.show()"
   ]
  },
  {
   "cell_type": "code",
   "execution_count": null,
   "id": "royal-stroke",
   "metadata": {},
   "outputs": [],
   "source": [
    "print(\"Finish\")"
   ]
  },
  {
   "cell_type": "code",
   "execution_count": null,
   "id": "ce0e0765-1b8f-4b78-83ab-b5a5df793f51",
   "metadata": {},
   "outputs": [],
   "source": []
  },
  {
   "cell_type": "code",
   "execution_count": null,
   "id": "40938156-7f95-4d2a-8bae-1f72c0c80a28",
   "metadata": {},
   "outputs": [],
   "source": []
  },
  {
   "cell_type": "code",
   "execution_count": null,
   "id": "f1d86343-d0bf-4fbf-928b-9e1842e2dac8",
   "metadata": {},
   "outputs": [],
   "source": []
  }
 ],
 "metadata": {
  "kernelspec": {
   "display_name": "Python 3 (ipykernel)",
   "language": "python",
   "name": "python3"
  },
  "language_info": {
   "codemirror_mode": {
    "name": "ipython",
    "version": 3
   },
   "file_extension": ".py",
   "mimetype": "text/x-python",
   "name": "python",
   "nbconvert_exporter": "python",
   "pygments_lexer": "ipython3",
   "version": "3.7.11"
  }
 },
 "nbformat": 4,
 "nbformat_minor": 5
}
